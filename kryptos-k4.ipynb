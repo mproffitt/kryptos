{
 "cells": [
  {
   "cell_type": "code",
   "execution_count": 1,
   "metadata": {
    "scrolled": false
   },
   "outputs": [],
   "source": [
    "from kryptos import Cipher\n",
    "\n",
    "cipher = Cipher(\n",
    "    'OBKRUOXOGHULBSOLIFBBWFLRVQQPRNGKSSOTWTQSJQSSEKZZWATJKLUDIAWINFBNYPVTTMZFPKWGDKZXTJCDIGKUHUAUEKCAR'\n",
    ").setup_jupyter()"
   ]
  },
  {
   "cell_type": "code",
   "execution_count": 2,
   "metadata": {},
   "outputs": [
    {
     "data": {
      "application/vnd.jupyter.widget-view+json": {
       "model_id": "86a9f1f7ab33477dbb549e996fbf9946",
       "version_major": 2,
       "version_minor": 0
      },
      "text/plain": [
       "VBox(children=(HTML(value='<h3>Current character O (15), lacuna K (11) index 1, deciphered to H algorithm 2</h…"
      ]
     },
     "metadata": {},
     "output_type": "display_data"
    }
   ],
   "source": [
    "cipher.display()"
   ]
  },
  {
   "cell_type": "markdown",
   "metadata": {},
   "source": [
    "https://www.google.com/maps/d/edit?mid=1x1SdqBa1Mz-W2iax-j5zP9HkBoewVqTk&usp=sharing"
   ]
  }
 ],
 "metadata": {
  "kernelspec": {
   "display_name": "Python 3",
   "language": "python",
   "name": "python3"
  },
  "language_info": {
   "codemirror_mode": {
    "name": "ipython",
    "version": 3
   },
   "file_extension": ".py",
   "mimetype": "text/x-python",
   "name": "python",
   "nbconvert_exporter": "python",
   "pygments_lexer": "ipython3",
   "version": "3.7.3"
  },
  "widgets": {
   "application/vnd.jupyter.widget-state+json": {
    "state": {
     "00d50ef9f6ee4ee6bb58b290e4ed657f": {
      "model_module": "@jupyter-widgets/controls",
      "model_module_version": "1.5.0",
      "model_name": "DescriptionStyleModel",
      "state": {
       "description_width": ""
      }
     },
     "034f4ce1c7274005a3694f695a482817": {
      "model_module": "@jupyter-widgets/controls",
      "model_module_version": "1.5.0",
      "model_name": "HBoxModel",
      "state": {
       "children": [
        "IPY_MODEL_1bf152be90bf4c89bc07599ae03f699d",
        "IPY_MODEL_8f7077c25af34b6c93fac43886225609",
        "IPY_MODEL_ac66944c52bf43b99d6c966f944d0506"
       ],
       "layout": "IPY_MODEL_d9ee817d11a7421b9c0e24a59f71393c"
      }
     },
     "04aefe88fe8a4ddb872c83ebc2bb5ad3": {
      "model_module": "@jupyter-widgets/base",
      "model_module_version": "1.2.0",
      "model_name": "LayoutModel",
      "state": {}
     },
     "0ccaac13fa2a41c9aff773cefd934159": {
      "model_module": "@jupyter-widgets/base",
      "model_module_version": "1.2.0",
      "model_name": "LayoutModel",
      "state": {}
     },
     "14dc0c4d09204713b651015298ca1a6e": {
      "model_module": "@jupyter-widgets/base",
      "model_module_version": "1.2.0",
      "model_name": "LayoutModel",
      "state": {}
     },
     "191053ff95104906ba1cbd6484ec40ee": {
      "model_module": "@jupyter-widgets/controls",
      "model_module_version": "1.5.0",
      "model_name": "HBoxModel",
      "state": {
       "children": [
        "IPY_MODEL_e0ec5afd12134902b060eb92cc7dcaed",
        "IPY_MODEL_849b17b955064fcaafa06d362e7b3c3b",
        "IPY_MODEL_45351a1feb7a4da1a2902d18b75ddd82",
        "IPY_MODEL_bd1f05215761400abc7c2551ddb11cb6"
       ],
       "layout": "IPY_MODEL_04aefe88fe8a4ddb872c83ebc2bb5ad3"
      }
     },
     "1bf152be90bf4c89bc07599ae03f699d": {
      "model_module": "@jupyter-widgets/controls",
      "model_module_version": "1.5.0",
      "model_name": "VBoxModel",
      "state": {
       "children": [
        "IPY_MODEL_23c4cdb9789e4657817824a173be0882",
        "IPY_MODEL_d3948b013a9042da993a054363f574f0"
       ],
       "layout": "IPY_MODEL_e813c6f966634d5a9a41ad98c6f0cac3"
      }
     },
     "22c5e9cdaa364e5e9002a27936447e50": {
      "model_module": "@jupyter-widgets/output",
      "model_module_version": "1.0.0",
      "model_name": "OutputModel",
      "state": {
       "layout": "IPY_MODEL_7240f4297de3423196faac019f4b5a3f"
      }
     },
     "23c4cdb9789e4657817824a173be0882": {
      "model_module": "@jupyter-widgets/output",
      "model_module_version": "1.0.0",
      "model_name": "OutputModel",
      "state": {
       "layout": "IPY_MODEL_7c0a1a9f7e6c4645a7ee52e8b65030da",
       "outputs": [
        {
         "data": {
          "text/html": "<style  type=\"text/css\" >\n    #T_e1ab9560_d0d8_11ea_a89a_3cd92beea2ccrow0_col1 {\n            width:  120px;\n        }    #T_e1ab9560_d0d8_11ea_a89a_3cd92beea2ccrow1_col1 {\n            width:  120px;\n        }    #T_e1ab9560_d0d8_11ea_a89a_3cd92beea2ccrow2_col1 {\n            width:  120px;\n        }    #T_e1ab9560_d0d8_11ea_a89a_3cd92beea2ccrow3_col1 {\n            width:  120px;\n        }    #T_e1ab9560_d0d8_11ea_a89a_3cd92beea2ccrow4_col1 {\n            width:  120px;\n        }    #T_e1ab9560_d0d8_11ea_a89a_3cd92beea2ccrow5_col1 {\n            width:  120px;\n        }    #T_e1ab9560_d0d8_11ea_a89a_3cd92beea2ccrow6_col1 {\n            width:  120px;\n        }    #T_e1ab9560_d0d8_11ea_a89a_3cd92beea2ccrow7_col1 {\n            width:  120px;\n        }    #T_e1ab9560_d0d8_11ea_a89a_3cd92beea2ccrow8_col1 {\n            width:  120px;\n        }</style><table id=\"T_e1ab9560_d0d8_11ea_a89a_3cd92beea2cc\" style=\"font-size: 10px\"><caption>Properties</caption><thead>    <tr>        <th class=\"col_heading level0 col0\" >Property</th>        <th class=\"col_heading level0 col1\" >Value</th>    </tr></thead><tbody>\n                <tr>\n                                <td id=\"T_e1ab9560_d0d8_11ea_a89a_3cd92beea2ccrow0_col0\" class=\"data row0 col0\" >table</td>\n                        <td id=\"T_e1ab9560_d0d8_11ea_a89a_3cd92beea2ccrow0_col1\" class=\"data row0 col1\" >False</td>\n            </tr>\n            <tr>\n                                <td id=\"T_e1ab9560_d0d8_11ea_a89a_3cd92beea2ccrow1_col0\" class=\"data row1 col0\" >binary</td>\n                        <td id=\"T_e1ab9560_d0d8_11ea_a89a_3cd92beea2ccrow1_col1\" class=\"data row1 col1\" >False</td>\n            </tr>\n            <tr>\n                                <td id=\"T_e1ab9560_d0d8_11ea_a89a_3cd92beea2ccrow2_col0\" class=\"data row2 col0\" >polarity</td>\n                        <td id=\"T_e1ab9560_d0d8_11ea_a89a_3cd92beea2ccrow2_col1\" class=\"data row2 col1\" >False</td>\n            </tr>\n            <tr>\n                                <td id=\"T_e1ab9560_d0d8_11ea_a89a_3cd92beea2ccrow3_col0\" class=\"data row3 col0\" >mapped</td>\n                        <td id=\"T_e1ab9560_d0d8_11ea_a89a_3cd92beea2ccrow3_col1\" class=\"data row3 col1\" >False</td>\n            </tr>\n            <tr>\n                                <td id=\"T_e1ab9560_d0d8_11ea_a89a_3cd92beea2ccrow4_col0\" class=\"data row4 col0\" >cipher_active</td>\n                        <td id=\"T_e1ab9560_d0d8_11ea_a89a_3cd92beea2ccrow4_col1\" class=\"data row4 col1\" >(False, False)</td>\n            </tr>\n            <tr>\n                                <td id=\"T_e1ab9560_d0d8_11ea_a89a_3cd92beea2ccrow5_col0\" class=\"data row5 col0\" >lacuna_active</td>\n                        <td id=\"T_e1ab9560_d0d8_11ea_a89a_3cd92beea2ccrow5_col1\" class=\"data row5 col1\" >(False, 'tr')</td>\n            </tr>\n            <tr>\n                                <td id=\"T_e1ab9560_d0d8_11ea_a89a_3cd92beea2ccrow6_col0\" class=\"data row6 col0\" >deciphered_lacuna</td>\n                        <td id=\"T_e1ab9560_d0d8_11ea_a89a_3cd92beea2ccrow6_col1\" class=\"data row6 col1\" >False</td>\n            </tr>\n            <tr>\n                                <td id=\"T_e1ab9560_d0d8_11ea_a89a_3cd92beea2ccrow7_col0\" class=\"data row7 col0\" >alphabet_even</td>\n                        <td id=\"T_e1ab9560_d0d8_11ea_a89a_3cd92beea2ccrow7_col1\" class=\"data row7 col1\" >False</td>\n            </tr>\n            <tr>\n                                <td id=\"T_e1ab9560_d0d8_11ea_a89a_3cd92beea2ccrow8_col0\" class=\"data row8 col0\" >upper_alphabet</td>\n                        <td id=\"T_e1ab9560_d0d8_11ea_a89a_3cd92beea2ccrow8_col1\" class=\"data row8 col1\" >False</td>\n            </tr>\n    </tbody></table>",
          "text/plain": "<pandas.io.formats.style.Styler at 0x7fdf6db97e80>"
         },
         "metadata": {},
         "output_type": "display_data"
        }
       ]
      }
     },
     "2426a8dade414272af6bb67641ac261e": {
      "model_module": "@jupyter-widgets/base",
      "model_module_version": "1.2.0",
      "model_name": "LayoutModel",
      "state": {}
     },
     "2814a2cfeb304222b41ee8f5e1db0aaa": {
      "model_module": "@jupyter-widgets/base",
      "model_module_version": "1.2.0",
      "model_name": "LayoutModel",
      "state": {}
     },
     "29deb0bf341544ba9853c5b706ae7b25": {
      "model_module": "@jupyter-widgets/controls",
      "model_module_version": "1.5.0",
      "model_name": "VBoxModel",
      "state": {
       "children": [
        "IPY_MODEL_4d580fba0740485988e2fe1a3bc5049d",
        "IPY_MODEL_034f4ce1c7274005a3694f695a482817",
        "IPY_MODEL_22c5e9cdaa364e5e9002a27936447e50"
       ],
       "layout": "IPY_MODEL_f65e01aab3264354b5489b05fba71047"
      }
     },
     "2be26d49b8484f5bbeed3813c3431aea": {
      "model_module": "@jupyter-widgets/output",
      "model_module_version": "1.0.0",
      "model_name": "OutputModel",
      "state": {
       "layout": "IPY_MODEL_d1726043064947a5a06ea54fb8b4ec94",
       "outputs": [
        {
         "data": {
          "text/html": "<style  type=\"text/css\" >\n    #T_e1b4f9d4_d0d8_11ea_a89a_3cd92beea2ccrow0_col0 {\n            background-color:  #FF0000;\n             color:  #FFFFFF;\n        }</style><table id=\"T_e1b4f9d4_d0d8_11ea_a89a_3cd92beea2cc\" style=\"font-size: 10px\"><caption>Deciphered plaintext</caption><thead>    <tr>        <th class=\"col_heading level0 col0\" >A</th>        <th class=\"col_heading level0 col1\" >B</th>        <th class=\"col_heading level0 col2\" >C</th>        <th class=\"col_heading level0 col3\" >D</th>        <th class=\"col_heading level0 col4\" >E</th>        <th class=\"col_heading level0 col5\" >F</th>        <th class=\"col_heading level0 col6\" >G</th>        <th class=\"col_heading level0 col7\" >H</th>        <th class=\"col_heading level0 col8\" >I</th>        <th class=\"col_heading level0 col9\" >J</th>        <th class=\"col_heading level0 col10\" >K</th>        <th class=\"col_heading level0 col11\" >L</th>        <th class=\"col_heading level0 col12\" >M</th>        <th class=\"col_heading level0 col13\" >N</th>        <th class=\"col_heading level0 col14\" >O</th>        <th class=\"col_heading level0 col15\" >P</th>        <th class=\"col_heading level0 col16\" >Q</th>        <th class=\"col_heading level0 col17\" >R</th>        <th class=\"col_heading level0 col18\" >S</th>        <th class=\"col_heading level0 col19\" >T</th>        <th class=\"col_heading level0 col20\" >U</th>        <th class=\"col_heading level0 col21\" >V</th>        <th class=\"col_heading level0 col22\" >W</th>        <th class=\"col_heading level0 col23\" >X</th>        <th class=\"col_heading level0 col24\" >Y</th>        <th class=\"col_heading level0 col25\" >Z</th>    </tr></thead><tbody>\n                <tr>\n                                <td id=\"T_e1b4f9d4_d0d8_11ea_a89a_3cd92beea2ccrow0_col0\" class=\"data row0 col0\" >H</td>\n                        <td id=\"T_e1b4f9d4_d0d8_11ea_a89a_3cd92beea2ccrow0_col1\" class=\"data row0 col1\" >F</td>\n                        <td id=\"T_e1b4f9d4_d0d8_11ea_a89a_3cd92beea2ccrow0_col2\" class=\"data row0 col2\" >K</td>\n                        <td id=\"T_e1b4f9d4_d0d8_11ea_a89a_3cd92beea2ccrow0_col3\" class=\"data row0 col3\" >T</td>\n                        <td id=\"T_e1b4f9d4_d0d8_11ea_a89a_3cd92beea2ccrow0_col4\" class=\"data row0 col4\" >Z</td>\n                        <td id=\"T_e1b4f9d4_d0d8_11ea_a89a_3cd92beea2ccrow0_col5\" class=\"data row0 col5\" >O</td>\n                        <td id=\"T_e1b4f9d4_d0d8_11ea_a89a_3cd92beea2ccrow0_col6\" class=\"data row0 col6\" >M</td>\n                        <td id=\"T_e1b4f9d4_d0d8_11ea_a89a_3cd92beea2ccrow0_col7\" class=\"data row0 col7\" >Q</td>\n                        <td id=\"T_e1b4f9d4_d0d8_11ea_a89a_3cd92beea2ccrow0_col8\" class=\"data row0 col8\" >O</td>\n                        <td id=\"T_e1b4f9d4_d0d8_11ea_a89a_3cd92beea2ccrow0_col9\" class=\"data row0 col9\" >D</td>\n                        <td id=\"T_e1b4f9d4_d0d8_11ea_a89a_3cd92beea2ccrow0_col10\" class=\"data row0 col10\" >S</td>\n                        <td id=\"T_e1b4f9d4_d0d8_11ea_a89a_3cd92beea2ccrow0_col11\" class=\"data row0 col11\" >P</td>\n                        <td id=\"T_e1b4f9d4_d0d8_11ea_a89a_3cd92beea2ccrow0_col12\" class=\"data row0 col12\" >U</td>\n                        <td id=\"T_e1b4f9d4_d0d8_11ea_a89a_3cd92beea2ccrow0_col13\" class=\"data row0 col13\" >I</td>\n                        <td id=\"T_e1b4f9d4_d0d8_11ea_a89a_3cd92beea2ccrow0_col14\" class=\"data row0 col14\" >R</td>\n                        <td id=\"T_e1b4f9d4_d0d8_11ea_a89a_3cd92beea2ccrow0_col15\" class=\"data row0 col15\" >R</td>\n                        <td id=\"T_e1b4f9d4_d0d8_11ea_a89a_3cd92beea2ccrow0_col16\" class=\"data row0 col16\" >S</td>\n                        <td id=\"T_e1b4f9d4_d0d8_11ea_a89a_3cd92beea2ccrow0_col17\" class=\"data row0 col17\" >V</td>\n                        <td id=\"T_e1b4f9d4_d0d8_11ea_a89a_3cd92beea2ccrow0_col18\" class=\"data row0 col18\" >E</td>\n                        <td id=\"T_e1b4f9d4_d0d8_11ea_a89a_3cd92beea2ccrow0_col19\" class=\"data row0 col19\" >J</td>\n                        <td id=\"T_e1b4f9d4_d0d8_11ea_a89a_3cd92beea2ccrow0_col20\" class=\"data row0 col20\" >L</td>\n                        <td id=\"T_e1b4f9d4_d0d8_11ea_a89a_3cd92beea2ccrow0_col21\" class=\"data row0 col21\" >H</td>\n                        <td id=\"T_e1b4f9d4_d0d8_11ea_a89a_3cd92beea2ccrow0_col22\" class=\"data row0 col22\" >S</td>\n                        <td id=\"T_e1b4f9d4_d0d8_11ea_a89a_3cd92beea2ccrow0_col23\" class=\"data row0 col23\" >N</td>\n                        <td id=\"T_e1b4f9d4_d0d8_11ea_a89a_3cd92beea2ccrow0_col24\" class=\"data row0 col24\" >Q</td>\n                        <td id=\"T_e1b4f9d4_d0d8_11ea_a89a_3cd92beea2ccrow0_col25\" class=\"data row0 col25\" >C</td>\n            </tr>\n            <tr>\n                                <td id=\"T_e1b4f9d4_d0d8_11ea_a89a_3cd92beea2ccrow1_col0\" class=\"data row1 col0\" >Q</td>\n                        <td id=\"T_e1b4f9d4_d0d8_11ea_a89a_3cd92beea2ccrow1_col1\" class=\"data row1 col1\" >L</td>\n                        <td id=\"T_e1b4f9d4_d0d8_11ea_a89a_3cd92beea2ccrow1_col2\" class=\"data row1 col2\" >B</td>\n                        <td id=\"T_e1b4f9d4_d0d8_11ea_a89a_3cd92beea2ccrow1_col3\" class=\"data row1 col3\" >H</td>\n                        <td id=\"T_e1b4f9d4_d0d8_11ea_a89a_3cd92beea2ccrow1_col4\" class=\"data row1 col4\" >V</td>\n                        <td id=\"T_e1b4f9d4_d0d8_11ea_a89a_3cd92beea2ccrow1_col5\" class=\"data row1 col5\" >A</td>\n                        <td id=\"T_e1b4f9d4_d0d8_11ea_a89a_3cd92beea2ccrow1_col6\" class=\"data row1 col6\" >U</td>\n                        <td id=\"T_e1b4f9d4_d0d8_11ea_a89a_3cd92beea2ccrow1_col7\" class=\"data row1 col7\" >W</td>\n                        <td id=\"T_e1b4f9d4_d0d8_11ea_a89a_3cd92beea2ccrow1_col8\" class=\"data row1 col8\" >J</td>\n                        <td id=\"T_e1b4f9d4_d0d8_11ea_a89a_3cd92beea2ccrow1_col9\" class=\"data row1 col9\" >J</td>\n                        <td id=\"T_e1b4f9d4_d0d8_11ea_a89a_3cd92beea2ccrow1_col10\" class=\"data row1 col10\" >U</td>\n                        <td id=\"T_e1b4f9d4_d0d8_11ea_a89a_3cd92beea2ccrow1_col11\" class=\"data row1 col11\" >X</td>\n                        <td id=\"T_e1b4f9d4_d0d8_11ea_a89a_3cd92beea2ccrow1_col12\" class=\"data row1 col12\" >K</td>\n                        <td id=\"T_e1b4f9d4_d0d8_11ea_a89a_3cd92beea2ccrow1_col13\" class=\"data row1 col13\" >A</td>\n                        <td id=\"T_e1b4f9d4_d0d8_11ea_a89a_3cd92beea2ccrow1_col14\" class=\"data row1 col14\" >H</td>\n                        <td id=\"T_e1b4f9d4_d0d8_11ea_a89a_3cd92beea2ccrow1_col15\" class=\"data row1 col15\" >E</td>\n                        <td id=\"T_e1b4f9d4_d0d8_11ea_a89a_3cd92beea2ccrow1_col16\" class=\"data row1 col16\" >V</td>\n                        <td id=\"T_e1b4f9d4_d0d8_11ea_a89a_3cd92beea2ccrow1_col17\" class=\"data row1 col17\" >S</td>\n                        <td id=\"T_e1b4f9d4_d0d8_11ea_a89a_3cd92beea2ccrow1_col18\" class=\"data row1 col18\" >E</td>\n                        <td id=\"T_e1b4f9d4_d0d8_11ea_a89a_3cd92beea2ccrow1_col19\" class=\"data row1 col19\" >K</td>\n                        <td id=\"T_e1b4f9d4_d0d8_11ea_a89a_3cd92beea2ccrow1_col20\" class=\"data row1 col20\" >S</td>\n                        <td id=\"T_e1b4f9d4_d0d8_11ea_a89a_3cd92beea2ccrow1_col21\" class=\"data row1 col21\" >Z</td>\n                        <td id=\"T_e1b4f9d4_d0d8_11ea_a89a_3cd92beea2ccrow1_col22\" class=\"data row1 col22\" >G</td>\n                        <td id=\"T_e1b4f9d4_d0d8_11ea_a89a_3cd92beea2ccrow1_col23\" class=\"data row1 col23\" >U</td>\n                        <td id=\"T_e1b4f9d4_d0d8_11ea_a89a_3cd92beea2ccrow1_col24\" class=\"data row1 col24\" >Z</td>\n                        <td id=\"T_e1b4f9d4_d0d8_11ea_a89a_3cd92beea2ccrow1_col25\" class=\"data row1 col25\" >F</td>\n            </tr>\n            <tr>\n                                <td id=\"T_e1b4f9d4_d0d8_11ea_a89a_3cd92beea2ccrow2_col0\" class=\"data row2 col0\" >J</td>\n                        <td id=\"T_e1b4f9d4_d0d8_11ea_a89a_3cd92beea2ccrow2_col1\" class=\"data row2 col1\" >B</td>\n                        <td id=\"T_e1b4f9d4_d0d8_11ea_a89a_3cd92beea2ccrow2_col2\" class=\"data row2 col2\" >Q</td>\n                        <td id=\"T_e1b4f9d4_d0d8_11ea_a89a_3cd92beea2ccrow2_col3\" class=\"data row2 col3\" >B</td>\n                        <td id=\"T_e1b4f9d4_d0d8_11ea_a89a_3cd92beea2ccrow2_col4\" class=\"data row2 col4\" >D</td>\n                        <td id=\"T_e1b4f9d4_d0d8_11ea_a89a_3cd92beea2ccrow2_col5\" class=\"data row2 col5\" >W</td>\n                        <td id=\"T_e1b4f9d4_d0d8_11ea_a89a_3cd92beea2ccrow2_col6\" class=\"data row2 col6\" >P</td>\n                        <td id=\"T_e1b4f9d4_d0d8_11ea_a89a_3cd92beea2ccrow2_col7\" class=\"data row2 col7\" >S</td>\n                        <td id=\"T_e1b4f9d4_d0d8_11ea_a89a_3cd92beea2ccrow2_col8\" class=\"data row2 col8\" >J</td>\n                        <td id=\"T_e1b4f9d4_d0d8_11ea_a89a_3cd92beea2ccrow2_col9\" class=\"data row2 col9\" >J</td>\n                        <td id=\"T_e1b4f9d4_d0d8_11ea_a89a_3cd92beea2ccrow2_col10\" class=\"data row2 col10\" >T</td>\n                        <td id=\"T_e1b4f9d4_d0d8_11ea_a89a_3cd92beea2ccrow2_col11\" class=\"data row2 col11\" >X</td>\n                        <td id=\"T_e1b4f9d4_d0d8_11ea_a89a_3cd92beea2ccrow2_col12\" class=\"data row2 col12\" >D</td>\n                        <td id=\"T_e1b4f9d4_d0d8_11ea_a89a_3cd92beea2ccrow2_col13\" class=\"data row2 col13\" >V</td>\n                        <td id=\"T_e1b4f9d4_d0d8_11ea_a89a_3cd92beea2ccrow2_col14\" class=\"data row2 col14\" >F</td>\n                        <td id=\"T_e1b4f9d4_d0d8_11ea_a89a_3cd92beea2ccrow2_col15\" class=\"data row2 col15\" >Z</td>\n                        <td id=\"T_e1b4f9d4_d0d8_11ea_a89a_3cd92beea2ccrow2_col16\" class=\"data row2 col16\" >O</td>\n                        <td id=\"T_e1b4f9d4_d0d8_11ea_a89a_3cd92beea2ccrow2_col17\" class=\"data row2 col17\" >C</td>\n                        <td id=\"T_e1b4f9d4_d0d8_11ea_a89a_3cd92beea2ccrow2_col18\" class=\"data row2 col18\" >Z</td>\n                        <td id=\"T_e1b4f9d4_d0d8_11ea_a89a_3cd92beea2ccrow2_col19\" class=\"data row2 col19\" >N</td>\n                        <td id=\"T_e1b4f9d4_d0d8_11ea_a89a_3cd92beea2ccrow2_col20\" class=\"data row2 col20\" >L</td>\n                        <td id=\"T_e1b4f9d4_d0d8_11ea_a89a_3cd92beea2ccrow2_col21\" class=\"data row2 col21\" >W</td>\n                        <td id=\"T_e1b4f9d4_d0d8_11ea_a89a_3cd92beea2ccrow2_col22\" class=\"data row2 col22\" >Z</td>\n                        <td id=\"T_e1b4f9d4_d0d8_11ea_a89a_3cd92beea2ccrow2_col23\" class=\"data row2 col23\" >G</td>\n                        <td id=\"T_e1b4f9d4_d0d8_11ea_a89a_3cd92beea2ccrow2_col24\" class=\"data row2 col24\" >A</td>\n                        <td id=\"T_e1b4f9d4_d0d8_11ea_a89a_3cd92beea2ccrow2_col25\" class=\"data row2 col25\" >C</td>\n            </tr>\n            <tr>\n                                <td id=\"T_e1b4f9d4_d0d8_11ea_a89a_3cd92beea2ccrow3_col0\" class=\"data row3 col0\" >M</td>\n                        <td id=\"T_e1b4f9d4_d0d8_11ea_a89a_3cd92beea2ccrow3_col1\" class=\"data row3 col1\" >L</td>\n                        <td id=\"T_e1b4f9d4_d0d8_11ea_a89a_3cd92beea2ccrow3_col2\" class=\"data row3 col2\" >B</td>\n                        <td id=\"T_e1b4f9d4_d0d8_11ea_a89a_3cd92beea2ccrow3_col3\" class=\"data row3 col3\" >X</td>\n                        <td id=\"T_e1b4f9d4_d0d8_11ea_a89a_3cd92beea2ccrow3_col4\" class=\"data row3 col4\" >K</td>\n                        <td id=\"T_e1b4f9d4_d0d8_11ea_a89a_3cd92beea2ccrow3_col5\" class=\"data row3 col5\" >X</td>\n                        <td id=\"T_e1b4f9d4_d0d8_11ea_a89a_3cd92beea2ccrow3_col6\" class=\"data row3 col6\" >K</td>\n                        <td id=\"T_e1b4f9d4_d0d8_11ea_a89a_3cd92beea2ccrow3_col7\" class=\"data row3 col7\" >Y</td>\n                        <td id=\"T_e1b4f9d4_d0d8_11ea_a89a_3cd92beea2ccrow3_col8\" class=\"data row3 col8\" >X</td>\n                        <td id=\"T_e1b4f9d4_d0d8_11ea_a89a_3cd92beea2ccrow3_col9\" class=\"data row3 col9\" >G</td>\n                        <td id=\"T_e1b4f9d4_d0d8_11ea_a89a_3cd92beea2ccrow3_col10\" class=\"data row3 col10\" >M</td>\n                        <td id=\"T_e1b4f9d4_d0d8_11ea_a89a_3cd92beea2ccrow3_col11\" class=\"data row3 col11\" >Q</td>\n                        <td id=\"T_e1b4f9d4_d0d8_11ea_a89a_3cd92beea2ccrow3_col12\" class=\"data row3 col12\" >X</td>\n                        <td id=\"T_e1b4f9d4_d0d8_11ea_a89a_3cd92beea2ccrow3_col13\" class=\"data row3 col13\" >G</td>\n                        <td id=\"T_e1b4f9d4_d0d8_11ea_a89a_3cd92beea2ccrow3_col14\" class=\"data row3 col14\" >D</td>\n                        <td id=\"T_e1b4f9d4_d0d8_11ea_a89a_3cd92beea2ccrow3_col15\" class=\"data row3 col15\" >M</td>\n                        <td id=\"T_e1b4f9d4_d0d8_11ea_a89a_3cd92beea2ccrow3_col16\" class=\"data row3 col16\" >Z</td>\n                        <td id=\"T_e1b4f9d4_d0d8_11ea_a89a_3cd92beea2ccrow3_col17\" class=\"data row3 col17\" >W</td>\n                        <td id=\"T_e1b4f9d4_d0d8_11ea_a89a_3cd92beea2ccrow3_col18\" class=\"data row3 col18\" >I</td>\n                        <td id=\"T_e1b4f9d4_d0d8_11ea_a89a_3cd92beea2ccrow3_col19\" class=\"data row3 col19\" ></td>\n                        <td id=\"T_e1b4f9d4_d0d8_11ea_a89a_3cd92beea2ccrow3_col20\" class=\"data row3 col20\" ></td>\n                        <td id=\"T_e1b4f9d4_d0d8_11ea_a89a_3cd92beea2ccrow3_col21\" class=\"data row3 col21\" ></td>\n                        <td id=\"T_e1b4f9d4_d0d8_11ea_a89a_3cd92beea2ccrow3_col22\" class=\"data row3 col22\" ></td>\n                        <td id=\"T_e1b4f9d4_d0d8_11ea_a89a_3cd92beea2ccrow3_col23\" class=\"data row3 col23\" ></td>\n                        <td id=\"T_e1b4f9d4_d0d8_11ea_a89a_3cd92beea2ccrow3_col24\" class=\"data row3 col24\" ></td>\n                        <td id=\"T_e1b4f9d4_d0d8_11ea_a89a_3cd92beea2ccrow3_col25\" class=\"data row3 col25\" ></td>\n            </tr>\n    </tbody></table>",
          "text/plain": "<pandas.io.formats.style.Styler at 0x7fdf6dae4710>"
         },
         "metadata": {},
         "output_type": "display_data"
        }
       ]
      }
     },
     "2eb86ad5bc744d988e223b2c81e12c16": {
      "model_module": "@jupyter-widgets/output",
      "model_module_version": "1.0.0",
      "model_name": "OutputModel",
      "state": {
       "layout": "IPY_MODEL_e0f0b11f1d814da0a526dd8559e995ea",
       "outputs": [
        {
         "data": {
          "text/html": "<style  type=\"text/css\" >\n</style><table id=\"T_e1a7b968_d0d8_11ea_a89a_3cd92beea2cc\" style=\"font-size: 10px\"><caption>22 (V)</caption><thead>    <tr>        <th class=\"col_heading level0 col0\" >0</th>        <th class=\"col_heading level0 col1\" >1</th>    </tr></thead><tbody>\n                <tr>\n                                <td id=\"T_e1a7b968_d0d8_11ea_a89a_3cd92beea2ccrow0_col0\" class=\"data row0 col0\" >O</td>\n                        <td id=\"T_e1a7b968_d0d8_11ea_a89a_3cd92beea2ccrow0_col1\" class=\"data row0 col1\" >Z</td>\n            </tr>\n            <tr>\n                                <td id=\"T_e1a7b968_d0d8_11ea_a89a_3cd92beea2ccrow1_col0\" class=\"data row1 col0\" >R</td>\n                        <td id=\"T_e1a7b968_d0d8_11ea_a89a_3cd92beea2ccrow1_col1\" class=\"data row1 col1\" >G</td>\n            </tr>\n    </tbody></table>",
          "text/plain": "<pandas.io.formats.style.Styler at 0x7fdf6db50588>"
         },
         "metadata": {},
         "output_type": "display_data"
        }
       ]
      }
     },
     "3b81fc5ac7ae40608815293c12b983ed": {
      "model_module": "@jupyter-widgets/base",
      "model_module_version": "1.2.0",
      "model_name": "LayoutModel",
      "state": {}
     },
     "45351a1feb7a4da1a2902d18b75ddd82": {
      "model_module": "@jupyter-widgets/output",
      "model_module_version": "1.0.0",
      "model_name": "OutputModel",
      "state": {
       "layout": "IPY_MODEL_3b81fc5ac7ae40608815293c12b983ed",
       "outputs": [
        {
         "data": {
          "text/html": "<style  type=\"text/css\" >\n</style><table id=\"T_e19a54ee_d0d8_11ea_a89a_3cd92beea2cc\" style=\"font-size: 10px\"><caption>20 (T)</caption><thead>    <tr>        <th class=\"col_heading level0 col0\" >0</th>        <th class=\"col_heading level0 col1\" >1</th>    </tr></thead><tbody>\n                <tr>\n                                <td id=\"T_e19a54ee_d0d8_11ea_a89a_3cd92beea2ccrow0_col0\" class=\"data row0 col0\" >Q</td>\n                        <td id=\"T_e19a54ee_d0d8_11ea_a89a_3cd92beea2ccrow0_col1\" class=\"data row0 col1\" >B</td>\n            </tr>\n            <tr>\n                                <td id=\"T_e19a54ee_d0d8_11ea_a89a_3cd92beea2ccrow1_col0\" class=\"data row1 col0\" >P</td>\n                        <td id=\"T_e19a54ee_d0d8_11ea_a89a_3cd92beea2ccrow1_col1\" class=\"data row1 col1\" >E</td>\n            </tr>\n    </tbody></table>",
          "text/plain": "<pandas.io.formats.style.Styler at 0x7fdf6db973c8>"
         },
         "metadata": {},
         "output_type": "display_data"
        }
       ]
      }
     },
     "4d580fba0740485988e2fe1a3bc5049d": {
      "model_module": "@jupyter-widgets/controls",
      "model_module_version": "1.5.0",
      "model_name": "HBoxModel",
      "state": {
       "children": [
        "IPY_MODEL_7b0a10539bbd4cc5a92c4ba2cceebc30",
        "IPY_MODEL_efe0ccda59334b93adde95e34f8ea8c2"
       ],
       "layout": "IPY_MODEL_14dc0c4d09204713b651015298ca1a6e"
      }
     },
     "620f29735517486d8941b9d11ca9c960": {
      "model_module": "@jupyter-widgets/output",
      "model_module_version": "1.0.0",
      "model_name": "OutputModel",
      "state": {
       "layout": "IPY_MODEL_c67a8af4ff184caf9948cb39057b92c3",
       "outputs": [
        {
         "data": {
          "text/html": "<style  type=\"text/css\" >\n    #T_e1bee5d4_d0d8_11ea_a89a_3cd92beea2ccrow0_col0 {\n            background-color:  #00FF00;\n        }    #T_e1bee5d4_d0d8_11ea_a89a_3cd92beea2ccrow1_col0 {\n            background-color:  #FF0000;\n             color:  #FFFFFF;\n        }    #T_e1bee5d4_d0d8_11ea_a89a_3cd92beea2ccrow2_col0 {\n            background-color:  #90EE90;\n        }    #T_e1bee5d4_d0d8_11ea_a89a_3cd92beea2ccrow3_col0 {\n            background-color:  #FBACA8;\n        }    #T_e1bee5d4_d0d8_11ea_a89a_3cd92beea2ccrow4_col0 {\n            background-color:  #EDC9AF;\n        }    #T_e1bee5d4_d0d8_11ea_a89a_3cd92beea2ccrow5_col0 {\n            background-color:  #D291BC;\n        }    #T_e1bee5d4_d0d8_11ea_a89a_3cd92beea2ccrow6_col0 {\n            background-color:  #85E3FF;\n        }</style><table id=\"T_e1bee5d4_d0d8_11ea_a89a_3cd92beea2cc\" style=\"font-size: 10px\"><caption>Key</caption><thead>    <tr>        <th class=\"col_heading level0 col0\" >Colour</th>        <th class=\"col_heading level0 col1\" >Description</th>    </tr></thead><tbody>\n                <tr>\n                                <td id=\"T_e1bee5d4_d0d8_11ea_a89a_3cd92beea2ccrow0_col0\" class=\"data row0 col0\" ></td>\n                        <td id=\"T_e1bee5d4_d0d8_11ea_a89a_3cd92beea2ccrow0_col1\" class=\"data row0 col1\" >Cipher character</td>\n            </tr>\n            <tr>\n                                <td id=\"T_e1bee5d4_d0d8_11ea_a89a_3cd92beea2ccrow1_col0\" class=\"data row1 col0\" ></td>\n                        <td id=\"T_e1bee5d4_d0d8_11ea_a89a_3cd92beea2ccrow1_col1\" class=\"data row1 col1\" >Active character</td>\n            </tr>\n            <tr>\n                                <td id=\"T_e1bee5d4_d0d8_11ea_a89a_3cd92beea2ccrow2_col0\" class=\"data row2 col0\" ></td>\n                        <td id=\"T_e1bee5d4_d0d8_11ea_a89a_3cd92beea2ccrow2_col1\" class=\"data row2 col1\" >Cipher lacuna</td>\n            </tr>\n            <tr>\n                                <td id=\"T_e1bee5d4_d0d8_11ea_a89a_3cd92beea2ccrow3_col0\" class=\"data row3 col0\" ></td>\n                        <td id=\"T_e1bee5d4_d0d8_11ea_a89a_3cd92beea2ccrow3_col1\" class=\"data row3 col1\" >Active lacuna</td>\n            </tr>\n            <tr>\n                                <td id=\"T_e1bee5d4_d0d8_11ea_a89a_3cd92beea2ccrow4_col0\" class=\"data row4 col0\" ></td>\n                        <td id=\"T_e1bee5d4_d0d8_11ea_a89a_3cd92beea2ccrow4_col1\" class=\"data row4 col1\" >Both match</td>\n            </tr>\n            <tr>\n                                <td id=\"T_e1bee5d4_d0d8_11ea_a89a_3cd92beea2ccrow5_col0\" class=\"data row5 col0\" ></td>\n                        <td id=\"T_e1bee5d4_d0d8_11ea_a89a_3cd92beea2ccrow5_col1\" class=\"data row5 col1\" >Properties match</td>\n            </tr>\n            <tr>\n                                <td id=\"T_e1bee5d4_d0d8_11ea_a89a_3cd92beea2ccrow6_col0\" class=\"data row6 col0\" ></td>\n                        <td id=\"T_e1bee5d4_d0d8_11ea_a89a_3cd92beea2ccrow6_col1\" class=\"data row6 col1\" >Contitions match</td>\n            </tr>\n    </tbody></table>",
          "text/plain": "<pandas.io.formats.style.Styler at 0x7fdf6db973c8>"
         },
         "metadata": {},
         "output_type": "display_data"
        }
       ]
      }
     },
     "621c3cffb21946c68008611c36e4748a": {
      "model_module": "@jupyter-widgets/output",
      "model_module_version": "1.0.0",
      "model_name": "OutputModel",
      "state": {
       "layout": "IPY_MODEL_a0ac9e3e22774930b22eea5c6ce2cf4f",
       "outputs": [
        {
         "data": {
          "text/html": "<style  type=\"text/css\" >\n    #T_e1a0c0c2_d0d8_11ea_a89a_3cd92beea2ccrow0_col0 {\n            background-color:  #FF0000;\n            color:  #FFFFFF;\n        }    #T_e1a0c0c2_d0d8_11ea_a89a_3cd92beea2ccrow0_col1 {\n            background-color:  #FF0000;\n            color:  #FFFFFF;\n        }    #T_e1a0c0c2_d0d8_11ea_a89a_3cd92beea2ccrow1_col0 {\n            background-color:  #FF0000;\n            color:  #FFFFFF;\n        }    #T_e1a0c0c2_d0d8_11ea_a89a_3cd92beea2ccrow1_col1 {\n            background-color:  #FF0000;\n            color:  #FFFFFF;\n        }</style><table id=\"T_e1a0c0c2_d0d8_11ea_a89a_3cd92beea2cc\" style=\"font-size: 10px\"><caption>14 (N)</caption><thead>    <tr>        <th class=\"col_heading level0 col0\" >0</th>        <th class=\"col_heading level0 col1\" >1</th>    </tr></thead><tbody>\n                <tr>\n                                <td id=\"T_e1a0c0c2_d0d8_11ea_a89a_3cd92beea2ccrow0_col0\" class=\"data row0 col0\" >W</td>\n                        <td id=\"T_e1a0c0c2_d0d8_11ea_a89a_3cd92beea2ccrow0_col1\" class=\"data row0 col1\" >H</td>\n            </tr>\n            <tr>\n                                <td id=\"T_e1a0c0c2_d0d8_11ea_a89a_3cd92beea2ccrow1_col0\" class=\"data row1 col0\" >J</td>\n                        <td id=\"T_e1a0c0c2_d0d8_11ea_a89a_3cd92beea2ccrow1_col1\" class=\"data row1 col1\" >Y</td>\n            </tr>\n    </tbody></table>",
          "text/plain": "<pandas.io.formats.style.Styler at 0x7fdf6db97e80>"
         },
         "metadata": {},
         "output_type": "display_data"
        }
       ]
      }
     },
     "68f45cc440924314b06d5451fc05c929": {
      "model_module": "@jupyter-widgets/output",
      "model_module_version": "1.0.0",
      "model_name": "OutputModel",
      "state": {
       "layout": "IPY_MODEL_90864afdf80548b19b35e097a198e270",
       "outputs": [
        {
         "data": {
          "text/html": "<style  type=\"text/css\" >\n</style><table id=\"T_e1a557a4_d0d8_11ea_a89a_3cd92beea2cc\" style=\"font-size: 10px\"><caption>21 (U)</caption><thead>    <tr>        <th class=\"col_heading level0 col0\" >0</th>        <th class=\"col_heading level0 col1\" >1</th>    </tr></thead><tbody>\n                <tr>\n                                <td id=\"T_e1a557a4_d0d8_11ea_a89a_3cd92beea2ccrow0_col0\" class=\"data row0 col0\" >P</td>\n                        <td id=\"T_e1a557a4_d0d8_11ea_a89a_3cd92beea2ccrow0_col1\" class=\"data row0 col1\" >A</td>\n            </tr>\n            <tr>\n                                <td id=\"T_e1a557a4_d0d8_11ea_a89a_3cd92beea2ccrow1_col0\" class=\"data row1 col0\" >Q</td>\n                        <td id=\"T_e1a557a4_d0d8_11ea_a89a_3cd92beea2ccrow1_col1\" class=\"data row1 col1\" >F</td>\n            </tr>\n    </tbody></table>",
          "text/plain": "<pandas.io.formats.style.Styler at 0x7fdf6db50cf8>"
         },
         "metadata": {},
         "output_type": "display_data"
        }
       ]
      }
     },
     "6edb4d0b57704868ad96f6a27f1369d1": {
      "model_module": "@jupyter-widgets/base",
      "model_module_version": "1.2.0",
      "model_name": "LayoutModel",
      "state": {}
     },
     "70758dd5dd14436dabc1695e4d36c57f": {
      "model_module": "@jupyter-widgets/output",
      "model_module_version": "1.0.0",
      "model_name": "OutputModel",
      "state": {
       "layout": "IPY_MODEL_2814a2cfeb304222b41ee8f5e1db0aaa",
       "outputs": [
        {
         "data": {
          "text/html": "<style  type=\"text/css\" >\n</style><table id=\"T_e1a2f64e_d0d8_11ea_a89a_3cd92beea2cc\" style=\"font-size: 10px\"><caption>11 (K)</caption><thead>    <tr>        <th class=\"col_heading level0 col0\" >0</th>        <th class=\"col_heading level0 col1\" >1</th>    </tr></thead><tbody>\n                <tr>\n                                <td id=\"T_e1a2f64e_d0d8_11ea_a89a_3cd92beea2ccrow0_col0\" class=\"data row0 col0\" >Z</td>\n                        <td id=\"T_e1a2f64e_d0d8_11ea_a89a_3cd92beea2ccrow0_col1\" class=\"data row0 col1\" >K</td>\n            </tr>\n            <tr>\n                                <td id=\"T_e1a2f64e_d0d8_11ea_a89a_3cd92beea2ccrow1_col0\" class=\"data row1 col0\" >G</td>\n                        <td id=\"T_e1a2f64e_d0d8_11ea_a89a_3cd92beea2ccrow1_col1\" class=\"data row1 col1\" >V</td>\n            </tr>\n    </tbody></table>",
          "text/plain": "<pandas.io.formats.style.Styler at 0x7fdf6db50e80>"
         },
         "metadata": {},
         "output_type": "display_data"
        }
       ]
      }
     },
     "7240f4297de3423196faac019f4b5a3f": {
      "model_module": "@jupyter-widgets/base",
      "model_module_version": "1.2.0",
      "model_name": "LayoutModel",
      "state": {}
     },
     "79ba0286c3104f7f9cabb07d6a103e00": {
      "model_module": "@jupyter-widgets/controls",
      "model_module_version": "1.5.0",
      "model_name": "HTMLModel",
      "state": {
       "layout": "IPY_MODEL_7b098f4feb42400681bb97fa6e04100c",
       "style": "IPY_MODEL_f032a39d1ba34d0b8431bc4ed5a853ab",
       "value": "<h3>Current character O (15), lacuna K (11) index 1, deciphered to H algorithm 2</h3>"
      }
     },
     "7a4b18ac0cfe4148a66d434bac2e9bc5": {
      "model_module": "ipyevents",
      "model_module_version": "1.8.0",
      "model_name": "EventModel",
      "state": {
       "_supported_key_events": [
        "keydown",
        "keyup"
       ],
       "_supported_mouse_events": [
        "click",
        "auxclick",
        "dblclick",
        "mouseenter",
        "mouseleave",
        "mousedown",
        "mouseup",
        "mousemove",
        "wheel",
        "contextmenu",
        "dragstart",
        "drag",
        "dragend",
        "dragenter",
        "dragover",
        "dragleave",
        "drop"
       ],
       "_view_module": "@jupyter-widgets/controls",
       "_view_module_version": "1.5.0",
       "source": "IPY_MODEL_86a9f1f7ab33477dbb549e996fbf9946",
       "throttle_or_debounce": "",
       "watched_events": [
        "keydown"
       ],
       "xy_coordinate_system": ""
      }
     },
     "7b098f4feb42400681bb97fa6e04100c": {
      "model_module": "@jupyter-widgets/base",
      "model_module_version": "1.2.0",
      "model_name": "LayoutModel",
      "state": {}
     },
     "7b0a10539bbd4cc5a92c4ba2cceebc30": {
      "model_module": "@jupyter-widgets/output",
      "model_module_version": "1.0.0",
      "model_name": "OutputModel",
      "state": {
       "layout": "IPY_MODEL_be701023e1f547fa9d4cef567275e8c2",
       "outputs": [
        {
         "data": {
          "text/html": "<style  type=\"text/css\" >\n    #T_e1c9030c_d0d8_11ea_a89a_3cd92beea2ccrow0_col8 {\n            background-color:  yellow;\n        }    #T_e1c9030c_d0d8_11ea_a89a_3cd92beea2ccrow0_col10 {\n            background-color:  yellow;\n        }    #T_e1c9030c_d0d8_11ea_a89a_3cd92beea2ccrow1_col0 {\n            background-color:  yellow;\n        }    #T_e1c9030c_d0d8_11ea_a89a_3cd92beea2ccrow1_col1 {\n            background-color:  yellow;\n        }    #T_e1c9030c_d0d8_11ea_a89a_3cd92beea2ccrow1_col2 {\n            background-color:  yellow;\n        }    #T_e1c9030c_d0d8_11ea_a89a_3cd92beea2ccrow1_col3 {\n            background-color:  yellow;\n        }    #T_e1c9030c_d0d8_11ea_a89a_3cd92beea2ccrow1_col4 {\n            background-color:  yellow;\n        }    #T_e1c9030c_d0d8_11ea_a89a_3cd92beea2ccrow1_col5 {\n            background-color:  yellow;\n        }    #T_e1c9030c_d0d8_11ea_a89a_3cd92beea2ccrow1_col6 {\n            background-color:  yellow;\n        }    #T_e1c9030c_d0d8_11ea_a89a_3cd92beea2ccrow1_col7 {\n            background-color:  yellow;\n        }    #T_e1c9030c_d0d8_11ea_a89a_3cd92beea2ccrow1_col8 {\n            background-color:  yellow;\n            background-color:  yellow;\n        }    #T_e1c9030c_d0d8_11ea_a89a_3cd92beea2ccrow1_col9 {\n            background-color:  yellow;\n        }    #T_e1c9030c_d0d8_11ea_a89a_3cd92beea2ccrow1_col10 {\n            background-color:  yellow;\n            background-color:  yellow;\n        }    #T_e1c9030c_d0d8_11ea_a89a_3cd92beea2ccrow1_col11 {\n            background-color:  yellow;\n        }    #T_e1c9030c_d0d8_11ea_a89a_3cd92beea2ccrow1_col12 {\n            background-color:  yellow;\n        }    #T_e1c9030c_d0d8_11ea_a89a_3cd92beea2ccrow2_col8 {\n            background-color:  yellow;\n        }    #T_e1c9030c_d0d8_11ea_a89a_3cd92beea2ccrow2_col10 {\n            background-color:  yellow;\n        }    #T_e1c9030c_d0d8_11ea_a89a_3cd92beea2ccrow3_col8 {\n            background-color:  yellow;\n        }    #T_e1c9030c_d0d8_11ea_a89a_3cd92beea2ccrow3_col10 {\n            background-color:  yellow;\n        }    #T_e1c9030c_d0d8_11ea_a89a_3cd92beea2ccrow4_col8 {\n            background-color:  yellow;\n        }    #T_e1c9030c_d0d8_11ea_a89a_3cd92beea2ccrow4_col10 {\n            background-color:  yellow;\n        }    #T_e1c9030c_d0d8_11ea_a89a_3cd92beea2ccrow5_col8 {\n            background-color:  yellow;\n        }    #T_e1c9030c_d0d8_11ea_a89a_3cd92beea2ccrow5_col10 {\n            background-color:  yellow;\n        }    #T_e1c9030c_d0d8_11ea_a89a_3cd92beea2ccrow6_col8 {\n            background-color:  yellow;\n        }    #T_e1c9030c_d0d8_11ea_a89a_3cd92beea2ccrow6_col10 {\n            background-color:  yellow;\n        }    #T_e1c9030c_d0d8_11ea_a89a_3cd92beea2ccrow7_col8 {\n            background-color:  yellow;\n        }    #T_e1c9030c_d0d8_11ea_a89a_3cd92beea2ccrow7_col10 {\n            background-color:  yellow;\n        }    #T_e1c9030c_d0d8_11ea_a89a_3cd92beea2ccrow8_col0 {\n            background-color:  yellow;\n        }    #T_e1c9030c_d0d8_11ea_a89a_3cd92beea2ccrow8_col1 {\n            background-color:  yellow;\n        }    #T_e1c9030c_d0d8_11ea_a89a_3cd92beea2ccrow8_col2 {\n            background-color:  yellow;\n        }    #T_e1c9030c_d0d8_11ea_a89a_3cd92beea2ccrow8_col3 {\n            background-color:  yellow;\n        }    #T_e1c9030c_d0d8_11ea_a89a_3cd92beea2ccrow8_col4 {\n            background-color:  yellow;\n        }    #T_e1c9030c_d0d8_11ea_a89a_3cd92beea2ccrow8_col5 {\n            background-color:  yellow;\n        }    #T_e1c9030c_d0d8_11ea_a89a_3cd92beea2ccrow8_col6 {\n            background-color:  yellow;\n        }    #T_e1c9030c_d0d8_11ea_a89a_3cd92beea2ccrow8_col7 {\n            background-color:  yellow;\n        }    #T_e1c9030c_d0d8_11ea_a89a_3cd92beea2ccrow8_col8 {\n            background-color:  yellow;\n            background-color:  yellow;\n        }    #T_e1c9030c_d0d8_11ea_a89a_3cd92beea2ccrow8_col9 {\n            background-color:  yellow;\n        }    #T_e1c9030c_d0d8_11ea_a89a_3cd92beea2ccrow8_col10 {\n            background-color:  yellow;\n            background-color:  yellow;\n        }    #T_e1c9030c_d0d8_11ea_a89a_3cd92beea2ccrow8_col11 {\n            background-color:  yellow;\n        }    #T_e1c9030c_d0d8_11ea_a89a_3cd92beea2ccrow8_col12 {\n            background-color:  yellow;\n        }    #T_e1c9030c_d0d8_11ea_a89a_3cd92beea2ccrow9_col8 {\n            background-color:  yellow;\n        }    #T_e1c9030c_d0d8_11ea_a89a_3cd92beea2ccrow9_col10 {\n            background-color:  yellow;\n        }    #T_e1c9030c_d0d8_11ea_a89a_3cd92beea2ccrow10_col8 {\n            background-color:  yellow;\n        }    #T_e1c9030c_d0d8_11ea_a89a_3cd92beea2ccrow10_col10 {\n            background-color:  yellow;\n        }    #T_e1c9030c_d0d8_11ea_a89a_3cd92beea2ccrow11_col8 {\n            background-color:  yellow;\n        }    #T_e1c9030c_d0d8_11ea_a89a_3cd92beea2ccrow11_col10 {\n            background-color:  yellow;\n        }    #T_e1c9030c_d0d8_11ea_a89a_3cd92beea2ccrow12_col8 {\n            background-color:  yellow;\n        }    #T_e1c9030c_d0d8_11ea_a89a_3cd92beea2ccrow12_col10 {\n            background-color:  yellow;\n        }</style><table id=\"T_e1c9030c_d0d8_11ea_a89a_3cd92beea2cc\" style=\"font-size: 10px\"><thead>    <tr>        <th class=\"blank level0\" ></th>        <th class=\"col_heading level0 col0\" >1</th>        <th class=\"col_heading level0 col1\" >2</th>        <th class=\"col_heading level0 col2\" >3</th>        <th class=\"col_heading level0 col3\" >4</th>        <th class=\"col_heading level0 col4\" >5</th>        <th class=\"col_heading level0 col5\" >6</th>        <th class=\"col_heading level0 col6\" >7</th>        <th class=\"col_heading level0 col7\" >8</th>        <th class=\"col_heading level0 col8\" >9</th>        <th class=\"col_heading level0 col9\" >10</th>        <th class=\"col_heading level0 col10\" >11</th>        <th class=\"col_heading level0 col11\" >12</th>        <th class=\"col_heading level0 col12\" >13</th>    </tr></thead><tbody>\n                <tr>\n                        <th id=\"T_e1c9030c_d0d8_11ea_a89a_3cd92beea2cclevel0_row0\" class=\"row_heading level0 row0\" >1</th>\n                        <td id=\"T_e1c9030c_d0d8_11ea_a89a_3cd92beea2ccrow0_col0\" class=\"data row0 col0\" >2</td>\n                        <td id=\"T_e1c9030c_d0d8_11ea_a89a_3cd92beea2ccrow0_col1\" class=\"data row0 col1\" >4</td>\n                        <td id=\"T_e1c9030c_d0d8_11ea_a89a_3cd92beea2ccrow0_col2\" class=\"data row0 col2\" >6</td>\n                        <td id=\"T_e1c9030c_d0d8_11ea_a89a_3cd92beea2ccrow0_col3\" class=\"data row0 col3\" >8</td>\n                        <td id=\"T_e1c9030c_d0d8_11ea_a89a_3cd92beea2ccrow0_col4\" class=\"data row0 col4\" >10</td>\n                        <td id=\"T_e1c9030c_d0d8_11ea_a89a_3cd92beea2ccrow0_col5\" class=\"data row0 col5\" >12</td>\n                        <td id=\"T_e1c9030c_d0d8_11ea_a89a_3cd92beea2ccrow0_col6\" class=\"data row0 col6\" >14</td>\n                        <td id=\"T_e1c9030c_d0d8_11ea_a89a_3cd92beea2ccrow0_col7\" class=\"data row0 col7\" >16</td>\n                        <td id=\"T_e1c9030c_d0d8_11ea_a89a_3cd92beea2ccrow0_col8\" class=\"data row0 col8\" >18</td>\n                        <td id=\"T_e1c9030c_d0d8_11ea_a89a_3cd92beea2ccrow0_col9\" class=\"data row0 col9\" >20</td>\n                        <td id=\"T_e1c9030c_d0d8_11ea_a89a_3cd92beea2ccrow0_col10\" class=\"data row0 col10\" >22</td>\n                        <td id=\"T_e1c9030c_d0d8_11ea_a89a_3cd92beea2ccrow0_col11\" class=\"data row0 col11\" >24</td>\n                        <td id=\"T_e1c9030c_d0d8_11ea_a89a_3cd92beea2ccrow0_col12\" class=\"data row0 col12\" >26</td>\n            </tr>\n            <tr>\n                        <th id=\"T_e1c9030c_d0d8_11ea_a89a_3cd92beea2cclevel0_row1\" class=\"row_heading level0 row1\" >2</th>\n                        <td id=\"T_e1c9030c_d0d8_11ea_a89a_3cd92beea2ccrow1_col0\" class=\"data row1 col0\" >24</td>\n                        <td id=\"T_e1c9030c_d0d8_11ea_a89a_3cd92beea2ccrow1_col1\" class=\"data row1 col1\" >22</td>\n                        <td id=\"T_e1c9030c_d0d8_11ea_a89a_3cd92beea2ccrow1_col2\" class=\"data row1 col2\" >20</td>\n                        <td id=\"T_e1c9030c_d0d8_11ea_a89a_3cd92beea2ccrow1_col3\" class=\"data row1 col3\" >18</td>\n                        <td id=\"T_e1c9030c_d0d8_11ea_a89a_3cd92beea2ccrow1_col4\" class=\"data row1 col4\" >16</td>\n                        <td id=\"T_e1c9030c_d0d8_11ea_a89a_3cd92beea2ccrow1_col5\" class=\"data row1 col5\" >14</td>\n                        <td id=\"T_e1c9030c_d0d8_11ea_a89a_3cd92beea2ccrow1_col6\" class=\"data row1 col6\" >12</td>\n                        <td id=\"T_e1c9030c_d0d8_11ea_a89a_3cd92beea2ccrow1_col7\" class=\"data row1 col7\" >10</td>\n                        <td id=\"T_e1c9030c_d0d8_11ea_a89a_3cd92beea2ccrow1_col8\" class=\"data row1 col8\" >8</td>\n                        <td id=\"T_e1c9030c_d0d8_11ea_a89a_3cd92beea2ccrow1_col9\" class=\"data row1 col9\" >6</td>\n                        <td id=\"T_e1c9030c_d0d8_11ea_a89a_3cd92beea2ccrow1_col10\" class=\"data row1 col10\" >4</td>\n                        <td id=\"T_e1c9030c_d0d8_11ea_a89a_3cd92beea2ccrow1_col11\" class=\"data row1 col11\" >2</td>\n                        <td id=\"T_e1c9030c_d0d8_11ea_a89a_3cd92beea2ccrow1_col12\" class=\"data row1 col12\" >26</td>\n            </tr>\n            <tr>\n                        <th id=\"T_e1c9030c_d0d8_11ea_a89a_3cd92beea2cclevel0_row2\" class=\"row_heading level0 row2\" >3</th>\n                        <td id=\"T_e1c9030c_d0d8_11ea_a89a_3cd92beea2ccrow2_col0\" class=\"data row2 col0\" >22</td>\n                        <td id=\"T_e1c9030c_d0d8_11ea_a89a_3cd92beea2ccrow2_col1\" class=\"data row2 col1\" >18</td>\n                        <td id=\"T_e1c9030c_d0d8_11ea_a89a_3cd92beea2ccrow2_col2\" class=\"data row2 col2\" >14</td>\n                        <td id=\"T_e1c9030c_d0d8_11ea_a89a_3cd92beea2ccrow2_col3\" class=\"data row2 col3\" >10</td>\n                        <td id=\"T_e1c9030c_d0d8_11ea_a89a_3cd92beea2ccrow2_col4\" class=\"data row2 col4\" >6</td>\n                        <td id=\"T_e1c9030c_d0d8_11ea_a89a_3cd92beea2ccrow2_col5\" class=\"data row2 col5\" >2</td>\n                        <td id=\"T_e1c9030c_d0d8_11ea_a89a_3cd92beea2ccrow2_col6\" class=\"data row2 col6\" >24</td>\n                        <td id=\"T_e1c9030c_d0d8_11ea_a89a_3cd92beea2ccrow2_col7\" class=\"data row2 col7\" >20</td>\n                        <td id=\"T_e1c9030c_d0d8_11ea_a89a_3cd92beea2ccrow2_col8\" class=\"data row2 col8\" >16</td>\n                        <td id=\"T_e1c9030c_d0d8_11ea_a89a_3cd92beea2ccrow2_col9\" class=\"data row2 col9\" >12</td>\n                        <td id=\"T_e1c9030c_d0d8_11ea_a89a_3cd92beea2ccrow2_col10\" class=\"data row2 col10\" >8</td>\n                        <td id=\"T_e1c9030c_d0d8_11ea_a89a_3cd92beea2ccrow2_col11\" class=\"data row2 col11\" >4</td>\n                        <td id=\"T_e1c9030c_d0d8_11ea_a89a_3cd92beea2ccrow2_col12\" class=\"data row2 col12\" >26</td>\n            </tr>\n            <tr>\n                        <th id=\"T_e1c9030c_d0d8_11ea_a89a_3cd92beea2cclevel0_row3\" class=\"row_heading level0 row3\" >4</th>\n                        <td id=\"T_e1c9030c_d0d8_11ea_a89a_3cd92beea2ccrow3_col0\" class=\"data row3 col0\" >4</td>\n                        <td id=\"T_e1c9030c_d0d8_11ea_a89a_3cd92beea2ccrow3_col1\" class=\"data row3 col1\" >8</td>\n                        <td id=\"T_e1c9030c_d0d8_11ea_a89a_3cd92beea2ccrow3_col2\" class=\"data row3 col2\" >12</td>\n                        <td id=\"T_e1c9030c_d0d8_11ea_a89a_3cd92beea2ccrow3_col3\" class=\"data row3 col3\" >16</td>\n                        <td id=\"T_e1c9030c_d0d8_11ea_a89a_3cd92beea2ccrow3_col4\" class=\"data row3 col4\" >20</td>\n                        <td id=\"T_e1c9030c_d0d8_11ea_a89a_3cd92beea2ccrow3_col5\" class=\"data row3 col5\" >24</td>\n                        <td id=\"T_e1c9030c_d0d8_11ea_a89a_3cd92beea2ccrow3_col6\" class=\"data row3 col6\" >2</td>\n                        <td id=\"T_e1c9030c_d0d8_11ea_a89a_3cd92beea2ccrow3_col7\" class=\"data row3 col7\" >6</td>\n                        <td id=\"T_e1c9030c_d0d8_11ea_a89a_3cd92beea2ccrow3_col8\" class=\"data row3 col8\" >10</td>\n                        <td id=\"T_e1c9030c_d0d8_11ea_a89a_3cd92beea2ccrow3_col9\" class=\"data row3 col9\" >14</td>\n                        <td id=\"T_e1c9030c_d0d8_11ea_a89a_3cd92beea2ccrow3_col10\" class=\"data row3 col10\" >18</td>\n                        <td id=\"T_e1c9030c_d0d8_11ea_a89a_3cd92beea2ccrow3_col11\" class=\"data row3 col11\" >22</td>\n                        <td id=\"T_e1c9030c_d0d8_11ea_a89a_3cd92beea2ccrow3_col12\" class=\"data row3 col12\" >26</td>\n            </tr>\n            <tr>\n                        <th id=\"T_e1c9030c_d0d8_11ea_a89a_3cd92beea2cclevel0_row4\" class=\"row_heading level0 row4\" >5</th>\n                        <td id=\"T_e1c9030c_d0d8_11ea_a89a_3cd92beea2ccrow4_col0\" class=\"data row4 col0\" >20</td>\n                        <td id=\"T_e1c9030c_d0d8_11ea_a89a_3cd92beea2ccrow4_col1\" class=\"data row4 col1\" >14</td>\n                        <td id=\"T_e1c9030c_d0d8_11ea_a89a_3cd92beea2ccrow4_col2\" class=\"data row4 col2\" >8</td>\n                        <td id=\"T_e1c9030c_d0d8_11ea_a89a_3cd92beea2ccrow4_col3\" class=\"data row4 col3\" >2</td>\n                        <td id=\"T_e1c9030c_d0d8_11ea_a89a_3cd92beea2ccrow4_col4\" class=\"data row4 col4\" >22</td>\n                        <td id=\"T_e1c9030c_d0d8_11ea_a89a_3cd92beea2ccrow4_col5\" class=\"data row4 col5\" >16</td>\n                        <td id=\"T_e1c9030c_d0d8_11ea_a89a_3cd92beea2ccrow4_col6\" class=\"data row4 col6\" >10</td>\n                        <td id=\"T_e1c9030c_d0d8_11ea_a89a_3cd92beea2ccrow4_col7\" class=\"data row4 col7\" >4</td>\n                        <td id=\"T_e1c9030c_d0d8_11ea_a89a_3cd92beea2ccrow4_col8\" class=\"data row4 col8\" >24</td>\n                        <td id=\"T_e1c9030c_d0d8_11ea_a89a_3cd92beea2ccrow4_col9\" class=\"data row4 col9\" >18</td>\n                        <td id=\"T_e1c9030c_d0d8_11ea_a89a_3cd92beea2ccrow4_col10\" class=\"data row4 col10\" >12</td>\n                        <td id=\"T_e1c9030c_d0d8_11ea_a89a_3cd92beea2ccrow4_col11\" class=\"data row4 col11\" >6</td>\n                        <td id=\"T_e1c9030c_d0d8_11ea_a89a_3cd92beea2ccrow4_col12\" class=\"data row4 col12\" >26</td>\n            </tr>\n            <tr>\n                        <th id=\"T_e1c9030c_d0d8_11ea_a89a_3cd92beea2cclevel0_row5\" class=\"row_heading level0 row5\" >6</th>\n                        <td id=\"T_e1c9030c_d0d8_11ea_a89a_3cd92beea2ccrow5_col0\" class=\"data row5 col0\" >6</td>\n                        <td id=\"T_e1c9030c_d0d8_11ea_a89a_3cd92beea2ccrow5_col1\" class=\"data row5 col1\" >12</td>\n                        <td id=\"T_e1c9030c_d0d8_11ea_a89a_3cd92beea2ccrow5_col2\" class=\"data row5 col2\" >18</td>\n                        <td id=\"T_e1c9030c_d0d8_11ea_a89a_3cd92beea2ccrow5_col3\" class=\"data row5 col3\" >24</td>\n                        <td id=\"T_e1c9030c_d0d8_11ea_a89a_3cd92beea2ccrow5_col4\" class=\"data row5 col4\" >4</td>\n                        <td id=\"T_e1c9030c_d0d8_11ea_a89a_3cd92beea2ccrow5_col5\" class=\"data row5 col5\" >10</td>\n                        <td id=\"T_e1c9030c_d0d8_11ea_a89a_3cd92beea2ccrow5_col6\" class=\"data row5 col6\" >16</td>\n                        <td id=\"T_e1c9030c_d0d8_11ea_a89a_3cd92beea2ccrow5_col7\" class=\"data row5 col7\" >22</td>\n                        <td id=\"T_e1c9030c_d0d8_11ea_a89a_3cd92beea2ccrow5_col8\" class=\"data row5 col8\" >2</td>\n                        <td id=\"T_e1c9030c_d0d8_11ea_a89a_3cd92beea2ccrow5_col9\" class=\"data row5 col9\" >8</td>\n                        <td id=\"T_e1c9030c_d0d8_11ea_a89a_3cd92beea2ccrow5_col10\" class=\"data row5 col10\" >14</td>\n                        <td id=\"T_e1c9030c_d0d8_11ea_a89a_3cd92beea2ccrow5_col11\" class=\"data row5 col11\" >20</td>\n                        <td id=\"T_e1c9030c_d0d8_11ea_a89a_3cd92beea2ccrow5_col12\" class=\"data row5 col12\" >26</td>\n            </tr>\n            <tr>\n                        <th id=\"T_e1c9030c_d0d8_11ea_a89a_3cd92beea2cclevel0_row6\" class=\"row_heading level0 row6\" >7</th>\n                        <td id=\"T_e1c9030c_d0d8_11ea_a89a_3cd92beea2ccrow6_col0\" class=\"data row6 col0\" >8</td>\n                        <td id=\"T_e1c9030c_d0d8_11ea_a89a_3cd92beea2ccrow6_col1\" class=\"data row6 col1\" >16</td>\n                        <td id=\"T_e1c9030c_d0d8_11ea_a89a_3cd92beea2ccrow6_col2\" class=\"data row6 col2\" >24</td>\n                        <td id=\"T_e1c9030c_d0d8_11ea_a89a_3cd92beea2ccrow6_col3\" class=\"data row6 col3\" >6</td>\n                        <td id=\"T_e1c9030c_d0d8_11ea_a89a_3cd92beea2ccrow6_col4\" class=\"data row6 col4\" >14</td>\n                        <td id=\"T_e1c9030c_d0d8_11ea_a89a_3cd92beea2ccrow6_col5\" class=\"data row6 col5\" >22</td>\n                        <td id=\"T_e1c9030c_d0d8_11ea_a89a_3cd92beea2ccrow6_col6\" class=\"data row6 col6\" >4</td>\n                        <td id=\"T_e1c9030c_d0d8_11ea_a89a_3cd92beea2ccrow6_col7\" class=\"data row6 col7\" >12</td>\n                        <td id=\"T_e1c9030c_d0d8_11ea_a89a_3cd92beea2ccrow6_col8\" class=\"data row6 col8\" >20</td>\n                        <td id=\"T_e1c9030c_d0d8_11ea_a89a_3cd92beea2ccrow6_col9\" class=\"data row6 col9\" >2</td>\n                        <td id=\"T_e1c9030c_d0d8_11ea_a89a_3cd92beea2ccrow6_col10\" class=\"data row6 col10\" >10</td>\n                        <td id=\"T_e1c9030c_d0d8_11ea_a89a_3cd92beea2ccrow6_col11\" class=\"data row6 col11\" >18</td>\n                        <td id=\"T_e1c9030c_d0d8_11ea_a89a_3cd92beea2ccrow6_col12\" class=\"data row6 col12\" >26</td>\n            </tr>\n            <tr>\n                        <th id=\"T_e1c9030c_d0d8_11ea_a89a_3cd92beea2cclevel0_row7\" class=\"row_heading level0 row7\" >8</th>\n                        <td id=\"T_e1c9030c_d0d8_11ea_a89a_3cd92beea2ccrow7_col0\" class=\"data row7 col0\" >18</td>\n                        <td id=\"T_e1c9030c_d0d8_11ea_a89a_3cd92beea2ccrow7_col1\" class=\"data row7 col1\" >10</td>\n                        <td id=\"T_e1c9030c_d0d8_11ea_a89a_3cd92beea2ccrow7_col2\" class=\"data row7 col2\" >2</td>\n                        <td id=\"T_e1c9030c_d0d8_11ea_a89a_3cd92beea2ccrow7_col3\" class=\"data row7 col3\" >20</td>\n                        <td id=\"T_e1c9030c_d0d8_11ea_a89a_3cd92beea2ccrow7_col4\" class=\"data row7 col4\" >12</td>\n                        <td id=\"T_e1c9030c_d0d8_11ea_a89a_3cd92beea2ccrow7_col5\" class=\"data row7 col5\" >4</td>\n                        <td id=\"T_e1c9030c_d0d8_11ea_a89a_3cd92beea2ccrow7_col6\" class=\"data row7 col6\" >22</td>\n                        <td id=\"T_e1c9030c_d0d8_11ea_a89a_3cd92beea2ccrow7_col7\" class=\"data row7 col7\" >14</td>\n                        <td id=\"T_e1c9030c_d0d8_11ea_a89a_3cd92beea2ccrow7_col8\" class=\"data row7 col8\" >6</td>\n                        <td id=\"T_e1c9030c_d0d8_11ea_a89a_3cd92beea2ccrow7_col9\" class=\"data row7 col9\" >24</td>\n                        <td id=\"T_e1c9030c_d0d8_11ea_a89a_3cd92beea2ccrow7_col10\" class=\"data row7 col10\" >16</td>\n                        <td id=\"T_e1c9030c_d0d8_11ea_a89a_3cd92beea2ccrow7_col11\" class=\"data row7 col11\" >8</td>\n                        <td id=\"T_e1c9030c_d0d8_11ea_a89a_3cd92beea2ccrow7_col12\" class=\"data row7 col12\" >26</td>\n            </tr>\n            <tr>\n                        <th id=\"T_e1c9030c_d0d8_11ea_a89a_3cd92beea2cclevel0_row8\" class=\"row_heading level0 row8\" >9</th>\n                        <td id=\"T_e1c9030c_d0d8_11ea_a89a_3cd92beea2ccrow8_col0\" class=\"data row8 col0\" >16</td>\n                        <td id=\"T_e1c9030c_d0d8_11ea_a89a_3cd92beea2ccrow8_col1\" class=\"data row8 col1\" >6</td>\n                        <td id=\"T_e1c9030c_d0d8_11ea_a89a_3cd92beea2ccrow8_col2\" class=\"data row8 col2\" >22</td>\n                        <td id=\"T_e1c9030c_d0d8_11ea_a89a_3cd92beea2ccrow8_col3\" class=\"data row8 col3\" >12</td>\n                        <td id=\"T_e1c9030c_d0d8_11ea_a89a_3cd92beea2ccrow8_col4\" class=\"data row8 col4\" >2</td>\n                        <td id=\"T_e1c9030c_d0d8_11ea_a89a_3cd92beea2ccrow8_col5\" class=\"data row8 col5\" >18</td>\n                        <td id=\"T_e1c9030c_d0d8_11ea_a89a_3cd92beea2ccrow8_col6\" class=\"data row8 col6\" >8</td>\n                        <td id=\"T_e1c9030c_d0d8_11ea_a89a_3cd92beea2ccrow8_col7\" class=\"data row8 col7\" >24</td>\n                        <td id=\"T_e1c9030c_d0d8_11ea_a89a_3cd92beea2ccrow8_col8\" class=\"data row8 col8\" >14</td>\n                        <td id=\"T_e1c9030c_d0d8_11ea_a89a_3cd92beea2ccrow8_col9\" class=\"data row8 col9\" >4</td>\n                        <td id=\"T_e1c9030c_d0d8_11ea_a89a_3cd92beea2ccrow8_col10\" class=\"data row8 col10\" >20</td>\n                        <td id=\"T_e1c9030c_d0d8_11ea_a89a_3cd92beea2ccrow8_col11\" class=\"data row8 col11\" >10</td>\n                        <td id=\"T_e1c9030c_d0d8_11ea_a89a_3cd92beea2ccrow8_col12\" class=\"data row8 col12\" >26</td>\n            </tr>\n            <tr>\n                        <th id=\"T_e1c9030c_d0d8_11ea_a89a_3cd92beea2cclevel0_row9\" class=\"row_heading level0 row9\" >10</th>\n                        <td id=\"T_e1c9030c_d0d8_11ea_a89a_3cd92beea2ccrow9_col0\" class=\"data row9 col0\" >10</td>\n                        <td id=\"T_e1c9030c_d0d8_11ea_a89a_3cd92beea2ccrow9_col1\" class=\"data row9 col1\" >20</td>\n                        <td id=\"T_e1c9030c_d0d8_11ea_a89a_3cd92beea2ccrow9_col2\" class=\"data row9 col2\" >4</td>\n                        <td id=\"T_e1c9030c_d0d8_11ea_a89a_3cd92beea2ccrow9_col3\" class=\"data row9 col3\" >14</td>\n                        <td id=\"T_e1c9030c_d0d8_11ea_a89a_3cd92beea2ccrow9_col4\" class=\"data row9 col4\" >24</td>\n                        <td id=\"T_e1c9030c_d0d8_11ea_a89a_3cd92beea2ccrow9_col5\" class=\"data row9 col5\" >8</td>\n                        <td id=\"T_e1c9030c_d0d8_11ea_a89a_3cd92beea2ccrow9_col6\" class=\"data row9 col6\" >18</td>\n                        <td id=\"T_e1c9030c_d0d8_11ea_a89a_3cd92beea2ccrow9_col7\" class=\"data row9 col7\" >2</td>\n                        <td id=\"T_e1c9030c_d0d8_11ea_a89a_3cd92beea2ccrow9_col8\" class=\"data row9 col8\" >12</td>\n                        <td id=\"T_e1c9030c_d0d8_11ea_a89a_3cd92beea2ccrow9_col9\" class=\"data row9 col9\" >22</td>\n                        <td id=\"T_e1c9030c_d0d8_11ea_a89a_3cd92beea2ccrow9_col10\" class=\"data row9 col10\" >6</td>\n                        <td id=\"T_e1c9030c_d0d8_11ea_a89a_3cd92beea2ccrow9_col11\" class=\"data row9 col11\" >16</td>\n                        <td id=\"T_e1c9030c_d0d8_11ea_a89a_3cd92beea2ccrow9_col12\" class=\"data row9 col12\" >26</td>\n            </tr>\n            <tr>\n                        <th id=\"T_e1c9030c_d0d8_11ea_a89a_3cd92beea2cclevel0_row10\" class=\"row_heading level0 row10\" >11</th>\n                        <td id=\"T_e1c9030c_d0d8_11ea_a89a_3cd92beea2ccrow10_col0\" class=\"data row10 col0\" >12</td>\n                        <td id=\"T_e1c9030c_d0d8_11ea_a89a_3cd92beea2ccrow10_col1\" class=\"data row10 col1\" >24</td>\n                        <td id=\"T_e1c9030c_d0d8_11ea_a89a_3cd92beea2ccrow10_col2\" class=\"data row10 col2\" >10</td>\n                        <td id=\"T_e1c9030c_d0d8_11ea_a89a_3cd92beea2ccrow10_col3\" class=\"data row10 col3\" >22</td>\n                        <td id=\"T_e1c9030c_d0d8_11ea_a89a_3cd92beea2ccrow10_col4\" class=\"data row10 col4\" >8</td>\n                        <td id=\"T_e1c9030c_d0d8_11ea_a89a_3cd92beea2ccrow10_col5\" class=\"data row10 col5\" >20</td>\n                        <td id=\"T_e1c9030c_d0d8_11ea_a89a_3cd92beea2ccrow10_col6\" class=\"data row10 col6\" >6</td>\n                        <td id=\"T_e1c9030c_d0d8_11ea_a89a_3cd92beea2ccrow10_col7\" class=\"data row10 col7\" >18</td>\n                        <td id=\"T_e1c9030c_d0d8_11ea_a89a_3cd92beea2ccrow10_col8\" class=\"data row10 col8\" >4</td>\n                        <td id=\"T_e1c9030c_d0d8_11ea_a89a_3cd92beea2ccrow10_col9\" class=\"data row10 col9\" >16</td>\n                        <td id=\"T_e1c9030c_d0d8_11ea_a89a_3cd92beea2ccrow10_col10\" class=\"data row10 col10\" >2</td>\n                        <td id=\"T_e1c9030c_d0d8_11ea_a89a_3cd92beea2ccrow10_col11\" class=\"data row10 col11\" >14</td>\n                        <td id=\"T_e1c9030c_d0d8_11ea_a89a_3cd92beea2ccrow10_col12\" class=\"data row10 col12\" >26</td>\n            </tr>\n            <tr>\n                        <th id=\"T_e1c9030c_d0d8_11ea_a89a_3cd92beea2cclevel0_row11\" class=\"row_heading level0 row11\" >12</th>\n                        <td id=\"T_e1c9030c_d0d8_11ea_a89a_3cd92beea2ccrow11_col0\" class=\"data row11 col0\" >14</td>\n                        <td id=\"T_e1c9030c_d0d8_11ea_a89a_3cd92beea2ccrow11_col1\" class=\"data row11 col1\" >2</td>\n                        <td id=\"T_e1c9030c_d0d8_11ea_a89a_3cd92beea2ccrow11_col2\" class=\"data row11 col2\" >16</td>\n                        <td id=\"T_e1c9030c_d0d8_11ea_a89a_3cd92beea2ccrow11_col3\" class=\"data row11 col3\" >4</td>\n                        <td id=\"T_e1c9030c_d0d8_11ea_a89a_3cd92beea2ccrow11_col4\" class=\"data row11 col4\" >18</td>\n                        <td id=\"T_e1c9030c_d0d8_11ea_a89a_3cd92beea2ccrow11_col5\" class=\"data row11 col5\" >6</td>\n                        <td id=\"T_e1c9030c_d0d8_11ea_a89a_3cd92beea2ccrow11_col6\" class=\"data row11 col6\" >20</td>\n                        <td id=\"T_e1c9030c_d0d8_11ea_a89a_3cd92beea2ccrow11_col7\" class=\"data row11 col7\" >8</td>\n                        <td id=\"T_e1c9030c_d0d8_11ea_a89a_3cd92beea2ccrow11_col8\" class=\"data row11 col8\" >22</td>\n                        <td id=\"T_e1c9030c_d0d8_11ea_a89a_3cd92beea2ccrow11_col9\" class=\"data row11 col9\" >10</td>\n                        <td id=\"T_e1c9030c_d0d8_11ea_a89a_3cd92beea2ccrow11_col10\" class=\"data row11 col10\" >24</td>\n                        <td id=\"T_e1c9030c_d0d8_11ea_a89a_3cd92beea2ccrow11_col11\" class=\"data row11 col11\" >12</td>\n                        <td id=\"T_e1c9030c_d0d8_11ea_a89a_3cd92beea2ccrow11_col12\" class=\"data row11 col12\" >26</td>\n            </tr>\n            <tr>\n                        <th id=\"T_e1c9030c_d0d8_11ea_a89a_3cd92beea2cclevel0_row12\" class=\"row_heading level0 row12\" >13</th>\n                        <td id=\"T_e1c9030c_d0d8_11ea_a89a_3cd92beea2ccrow12_col0\" class=\"data row12 col0\" >26</td>\n                        <td id=\"T_e1c9030c_d0d8_11ea_a89a_3cd92beea2ccrow12_col1\" class=\"data row12 col1\" >26</td>\n                        <td id=\"T_e1c9030c_d0d8_11ea_a89a_3cd92beea2ccrow12_col2\" class=\"data row12 col2\" >26</td>\n                        <td id=\"T_e1c9030c_d0d8_11ea_a89a_3cd92beea2ccrow12_col3\" class=\"data row12 col3\" >26</td>\n                        <td id=\"T_e1c9030c_d0d8_11ea_a89a_3cd92beea2ccrow12_col4\" class=\"data row12 col4\" >26</td>\n                        <td id=\"T_e1c9030c_d0d8_11ea_a89a_3cd92beea2ccrow12_col5\" class=\"data row12 col5\" >26</td>\n                        <td id=\"T_e1c9030c_d0d8_11ea_a89a_3cd92beea2ccrow12_col6\" class=\"data row12 col6\" >26</td>\n                        <td id=\"T_e1c9030c_d0d8_11ea_a89a_3cd92beea2ccrow12_col7\" class=\"data row12 col7\" >26</td>\n                        <td id=\"T_e1c9030c_d0d8_11ea_a89a_3cd92beea2ccrow12_col8\" class=\"data row12 col8\" >26</td>\n                        <td id=\"T_e1c9030c_d0d8_11ea_a89a_3cd92beea2ccrow12_col9\" class=\"data row12 col9\" >26</td>\n                        <td id=\"T_e1c9030c_d0d8_11ea_a89a_3cd92beea2ccrow12_col10\" class=\"data row12 col10\" >26</td>\n                        <td id=\"T_e1c9030c_d0d8_11ea_a89a_3cd92beea2ccrow12_col11\" class=\"data row12 col11\" >26</td>\n                        <td id=\"T_e1c9030c_d0d8_11ea_a89a_3cd92beea2ccrow12_col12\" class=\"data row12 col12\" >26</td>\n            </tr>\n    </tbody></table>",
          "text/plain": "<pandas.io.formats.style.Styler at 0x7fdf6fcaef28>"
         },
         "metadata": {},
         "output_type": "display_data"
        }
       ]
      }
     },
     "7c0a1a9f7e6c4645a7ee52e8b65030da": {
      "model_module": "@jupyter-widgets/base",
      "model_module_version": "1.2.0",
      "model_name": "LayoutModel",
      "state": {}
     },
     "7e7125cec0b24d2281c582ad7eabb5f4": {
      "model_module": "@jupyter-widgets/base",
      "model_module_version": "1.2.0",
      "model_name": "LayoutModel",
      "state": {}
     },
     "849b17b955064fcaafa06d362e7b3c3b": {
      "model_module": "@jupyter-widgets/output",
      "model_module_version": "1.0.0",
      "model_name": "OutputModel",
      "state": {
       "layout": "IPY_MODEL_6edb4d0b57704868ad96f6a27f1369d1",
       "outputs": [
        {
         "data": {
          "text/html": "<style  type=\"text/css\" >\n</style><table id=\"T_e1982548_d0d8_11ea_a89a_3cd92beea2cc\" style=\"font-size: 10px\"><caption>4 (D)</caption><thead>    <tr>        <th class=\"col_heading level0 col0\" >0</th>        <th class=\"col_heading level0 col1\" >1</th>    </tr></thead><tbody>\n                <tr>\n                                <td id=\"T_e1982548_d0d8_11ea_a89a_3cd92beea2ccrow0_col0\" class=\"data row0 col0\" >G</td>\n                        <td id=\"T_e1982548_d0d8_11ea_a89a_3cd92beea2ccrow0_col1\" class=\"data row0 col1\" >R</td>\n            </tr>\n            <tr>\n                                <td id=\"T_e1982548_d0d8_11ea_a89a_3cd92beea2ccrow1_col0\" class=\"data row1 col0\" >Z</td>\n                        <td id=\"T_e1982548_d0d8_11ea_a89a_3cd92beea2ccrow1_col1\" class=\"data row1 col1\" >O</td>\n            </tr>\n    </tbody></table>",
          "text/plain": "<pandas.io.formats.style.Styler at 0x7fdf74834a58>"
         },
         "metadata": {},
         "output_type": "display_data"
        }
       ]
      }
     },
     "86a9f1f7ab33477dbb549e996fbf9946": {
      "model_module": "@jupyter-widgets/controls",
      "model_module_version": "1.5.0",
      "model_name": "VBoxModel",
      "state": {
       "_view_count": 1,
       "children": [
        "IPY_MODEL_79ba0286c3104f7f9cabb07d6a103e00",
        "IPY_MODEL_29deb0bf341544ba9853c5b706ae7b25",
        "IPY_MODEL_b0a6f37139844e1384e2767087339882"
       ],
       "layout": "IPY_MODEL_cc171ef2824243039fe1556eb69b827e"
      }
     },
     "8f7077c25af34b6c93fac43886225609": {
      "model_module": "@jupyter-widgets/controls",
      "model_module_version": "1.5.0",
      "model_name": "VBoxModel",
      "state": {
       "children": [
        "IPY_MODEL_191053ff95104906ba1cbd6484ec40ee",
        "IPY_MODEL_ba6214b263f24e52a6bca40b22c5e3fc"
       ],
       "layout": "IPY_MODEL_7e7125cec0b24d2281c582ad7eabb5f4"
      }
     },
     "90864afdf80548b19b35e097a198e270": {
      "model_module": "@jupyter-widgets/base",
      "model_module_version": "1.2.0",
      "model_name": "LayoutModel",
      "state": {}
     },
     "a0ac9e3e22774930b22eea5c6ce2cf4f": {
      "model_module": "@jupyter-widgets/base",
      "model_module_version": "1.2.0",
      "model_name": "LayoutModel",
      "state": {}
     },
     "a2087d398c234e3eb5726e8d21a45ba8": {
      "model_module": "@jupyter-widgets/base",
      "model_module_version": "1.2.0",
      "model_name": "LayoutModel",
      "state": {}
     },
     "ac66944c52bf43b99d6c966f944d0506": {
      "model_module": "@jupyter-widgets/controls",
      "model_module_version": "1.5.0",
      "model_name": "VBoxModel",
      "state": {
       "children": [
        "IPY_MODEL_2be26d49b8484f5bbeed3813c3431aea",
        "IPY_MODEL_620f29735517486d8941b9d11ca9c960"
       ],
       "layout": "IPY_MODEL_0ccaac13fa2a41c9aff773cefd934159"
      }
     },
     "af90d419b47c4c439830ffd317e2d234": {
      "model_module": "@jupyter-widgets/base",
      "model_module_version": "1.2.0",
      "model_name": "LayoutModel",
      "state": {}
     },
     "b0a6f37139844e1384e2767087339882": {
      "model_module": "@jupyter-widgets/controls",
      "model_module_version": "1.5.0",
      "model_name": "LabelModel",
      "state": {
       "layout": "IPY_MODEL_af90d419b47c4c439830ffd317e2d234",
       "style": "IPY_MODEL_00d50ef9f6ee4ee6bb58b290e4ed657f",
       "value": "Move the cursor over the cell and use the left and right arrow keys to navigate"
      }
     },
     "ba6214b263f24e52a6bca40b22c5e3fc": {
      "model_module": "@jupyter-widgets/controls",
      "model_module_version": "1.5.0",
      "model_name": "HBoxModel",
      "state": {
       "children": [
        "IPY_MODEL_621c3cffb21946c68008611c36e4748a",
        "IPY_MODEL_70758dd5dd14436dabc1695e4d36c57f",
        "IPY_MODEL_68f45cc440924314b06d5451fc05c929",
        "IPY_MODEL_2eb86ad5bc744d988e223b2c81e12c16"
       ],
       "layout": "IPY_MODEL_f5163b7145b54a11849ae1554e62ca22"
      }
     },
     "bd1f05215761400abc7c2551ddb11cb6": {
      "model_module": "@jupyter-widgets/output",
      "model_module_version": "1.0.0",
      "model_name": "OutputModel",
      "state": {
       "layout": "IPY_MODEL_d19879dff322423aa1f1f76a70bdea85",
       "outputs": [
        {
         "data": {
          "text/html": "<style  type=\"text/css\" >\n</style><table id=\"T_e19c551e_d0d8_11ea_a89a_3cd92beea2cc\" style=\"font-size: 10px\"><caption>14 (N)</caption><thead>    <tr>        <th class=\"col_heading level0 col0\" >0</th>        <th class=\"col_heading level0 col1\" >1</th>    </tr></thead><tbody>\n                <tr>\n                                <td id=\"T_e19c551e_d0d8_11ea_a89a_3cd92beea2ccrow0_col0\" class=\"data row0 col0\" >W</td>\n                        <td id=\"T_e19c551e_d0d8_11ea_a89a_3cd92beea2ccrow0_col1\" class=\"data row0 col1\" >H</td>\n            </tr>\n            <tr>\n                                <td id=\"T_e19c551e_d0d8_11ea_a89a_3cd92beea2ccrow1_col0\" class=\"data row1 col0\" >J</td>\n                        <td id=\"T_e19c551e_d0d8_11ea_a89a_3cd92beea2ccrow1_col1\" class=\"data row1 col1\" >Y</td>\n            </tr>\n    </tbody></table>",
          "text/plain": "<pandas.io.formats.style.Styler at 0x7fdf6db97390>"
         },
         "metadata": {},
         "output_type": "display_data"
        }
       ]
      }
     },
     "be701023e1f547fa9d4cef567275e8c2": {
      "model_module": "@jupyter-widgets/base",
      "model_module_version": "1.2.0",
      "model_name": "LayoutModel",
      "state": {}
     },
     "c67a8af4ff184caf9948cb39057b92c3": {
      "model_module": "@jupyter-widgets/base",
      "model_module_version": "1.2.0",
      "model_name": "LayoutModel",
      "state": {}
     },
     "cc171ef2824243039fe1556eb69b827e": {
      "model_module": "@jupyter-widgets/base",
      "model_module_version": "1.2.0",
      "model_name": "LayoutModel",
      "state": {}
     },
     "d1726043064947a5a06ea54fb8b4ec94": {
      "model_module": "@jupyter-widgets/base",
      "model_module_version": "1.2.0",
      "model_name": "LayoutModel",
      "state": {}
     },
     "d19879dff322423aa1f1f76a70bdea85": {
      "model_module": "@jupyter-widgets/base",
      "model_module_version": "1.2.0",
      "model_name": "LayoutModel",
      "state": {}
     },
     "d3948b013a9042da993a054363f574f0": {
      "model_module": "@jupyter-widgets/output",
      "model_module_version": "1.0.0",
      "model_name": "OutputModel",
      "state": {
       "layout": "IPY_MODEL_a2087d398c234e3eb5726e8d21a45ba8",
       "outputs": [
        {
         "data": {
          "text/html": "<style  type=\"text/css\" >\n</style><table id=\"T_e1ad77a4_d0d8_11ea_a89a_3cd92beea2cc\" style=\"font-size: 10px\"><caption>Conditions</caption><thead>    <tr>        <th class=\"col_heading level0 col0\" ></th>        <th class=\"col_heading level0 col1\" >index</th>        <th class=\"col_heading level0 col2\" >cipher</th>        <th class=\"col_heading level0 col3\" >lacuna</th>    </tr></thead><tbody>\n                <tr>\n                                <td id=\"T_e1ad77a4_d0d8_11ea_a89a_3cd92beea2ccrow0_col0\" class=\"data row0 col0\" >% 2</td>\n                        <td id=\"T_e1ad77a4_d0d8_11ea_a89a_3cd92beea2ccrow0_col1\" class=\"data row0 col1\" >False</td>\n                        <td id=\"T_e1ad77a4_d0d8_11ea_a89a_3cd92beea2ccrow0_col2\" class=\"data row0 col2\" >False</td>\n                        <td id=\"T_e1ad77a4_d0d8_11ea_a89a_3cd92beea2ccrow0_col3\" class=\"data row0 col3\" >False</td>\n            </tr>\n            <tr>\n                                <td id=\"T_e1ad77a4_d0d8_11ea_a89a_3cd92beea2ccrow1_col0\" class=\"data row1 col0\" >% 5</td>\n                        <td id=\"T_e1ad77a4_d0d8_11ea_a89a_3cd92beea2ccrow1_col1\" class=\"data row1 col1\" >False</td>\n                        <td id=\"T_e1ad77a4_d0d8_11ea_a89a_3cd92beea2ccrow1_col2\" class=\"data row1 col2\" >True</td>\n                        <td id=\"T_e1ad77a4_d0d8_11ea_a89a_3cd92beea2ccrow1_col3\" class=\"data row1 col3\" >False</td>\n            </tr>\n            <tr>\n                                <td id=\"T_e1ad77a4_d0d8_11ea_a89a_3cd92beea2ccrow2_col0\" class=\"data row2 col0\" >% 15</td>\n                        <td id=\"T_e1ad77a4_d0d8_11ea_a89a_3cd92beea2ccrow2_col1\" class=\"data row2 col1\" >False</td>\n                        <td id=\"T_e1ad77a4_d0d8_11ea_a89a_3cd92beea2ccrow2_col2\" class=\"data row2 col2\" >True</td>\n                        <td id=\"T_e1ad77a4_d0d8_11ea_a89a_3cd92beea2ccrow2_col3\" class=\"data row2 col3\" >False</td>\n            </tr>\n    </tbody></table>",
          "text/plain": "<pandas.io.formats.style.Styler at 0x7fdf6db973c8>"
         },
         "metadata": {},
         "output_type": "display_data"
        }
       ]
      }
     },
     "d9ee817d11a7421b9c0e24a59f71393c": {
      "model_module": "@jupyter-widgets/base",
      "model_module_version": "1.2.0",
      "model_name": "LayoutModel",
      "state": {}
     },
     "e0ec5afd12134902b060eb92cc7dcaed": {
      "model_module": "@jupyter-widgets/output",
      "model_module_version": "1.0.0",
      "model_name": "OutputModel",
      "state": {
       "layout": "IPY_MODEL_2426a8dade414272af6bb67641ac261e",
       "outputs": [
        {
         "data": {
          "text/html": "<style  type=\"text/css\" >\n</style><table id=\"T_e195d54a_d0d8_11ea_a89a_3cd92beea2cc\" style=\"font-size: 10px\"><caption>8 (H)</caption><thead>    <tr>        <th class=\"col_heading level0 col0\" >0</th>        <th class=\"col_heading level0 col1\" >1</th>    </tr></thead><tbody>\n                <tr>\n                                <td id=\"T_e195d54a_d0d8_11ea_a89a_3cd92beea2ccrow0_col0\" class=\"data row0 col0\" >C</td>\n                        <td id=\"T_e195d54a_d0d8_11ea_a89a_3cd92beea2ccrow0_col1\" class=\"data row0 col1\" >N</td>\n            </tr>\n            <tr>\n                                <td id=\"T_e195d54a_d0d8_11ea_a89a_3cd92beea2ccrow1_col0\" class=\"data row1 col0\" >D</td>\n                        <td id=\"T_e195d54a_d0d8_11ea_a89a_3cd92beea2ccrow1_col1\" class=\"data row1 col1\" >S</td>\n            </tr>\n    </tbody></table>",
          "text/plain": "<pandas.io.formats.style.Styler at 0x7fdf7481b320>"
         },
         "metadata": {},
         "output_type": "display_data"
        }
       ]
      }
     },
     "e0f0b11f1d814da0a526dd8559e995ea": {
      "model_module": "@jupyter-widgets/base",
      "model_module_version": "1.2.0",
      "model_name": "LayoutModel",
      "state": {}
     },
     "e63ee467f1ee4f67905a1ba9556da0b1": {
      "model_module": "@jupyter-widgets/base",
      "model_module_version": "1.2.0",
      "model_name": "LayoutModel",
      "state": {}
     },
     "e813c6f966634d5a9a41ad98c6f0cac3": {
      "model_module": "@jupyter-widgets/base",
      "model_module_version": "1.2.0",
      "model_name": "LayoutModel",
      "state": {}
     },
     "efe0ccda59334b93adde95e34f8ea8c2": {
      "model_module": "@jupyter-widgets/output",
      "model_module_version": "1.0.0",
      "model_name": "OutputModel",
      "state": {
       "layout": "IPY_MODEL_e63ee467f1ee4f67905a1ba9556da0b1",
       "outputs": [
        {
         "data": {
          "text/html": "<style  type=\"text/css\" >\n    #T_e1db04a8_d0d8_11ea_a89a_3cd92beea2ccrow0_col11 {\n            background-color:  yellow;\n        }    #T_e1db04a8_d0d8_11ea_a89a_3cd92beea2ccrow0_col14 {\n            background-color:  yellow;\n        }    #T_e1db04a8_d0d8_11ea_a89a_3cd92beea2ccrow1_col0 {\n            background-color:  yellow;\n        }    #T_e1db04a8_d0d8_11ea_a89a_3cd92beea2ccrow1_col1 {\n            background-color:  yellow;\n        }    #T_e1db04a8_d0d8_11ea_a89a_3cd92beea2ccrow1_col2 {\n            background-color:  yellow;\n        }    #T_e1db04a8_d0d8_11ea_a89a_3cd92beea2ccrow1_col3 {\n            background-color:  yellow;\n        }    #T_e1db04a8_d0d8_11ea_a89a_3cd92beea2ccrow1_col4 {\n            background-color:  yellow;\n        }    #T_e1db04a8_d0d8_11ea_a89a_3cd92beea2ccrow1_col5 {\n            background-color:  yellow;\n        }    #T_e1db04a8_d0d8_11ea_a89a_3cd92beea2ccrow1_col6 {\n            background-color:  yellow;\n        }    #T_e1db04a8_d0d8_11ea_a89a_3cd92beea2ccrow1_col7 {\n            background-color:  yellow;\n        }    #T_e1db04a8_d0d8_11ea_a89a_3cd92beea2ccrow1_col8 {\n            background-color:  yellow;\n        }    #T_e1db04a8_d0d8_11ea_a89a_3cd92beea2ccrow1_col9 {\n            background-color:  yellow;\n        }    #T_e1db04a8_d0d8_11ea_a89a_3cd92beea2ccrow1_col10 {\n            background-color:  yellow;\n        }    #T_e1db04a8_d0d8_11ea_a89a_3cd92beea2ccrow1_col11 {\n            background-color:  yellow;\n            background-color:  yellow;\n            background-color:  #FF0000;\n             color:  #FFFFFF;\n        }    #T_e1db04a8_d0d8_11ea_a89a_3cd92beea2ccrow1_col12 {\n            background-color:  yellow;\n        }    #T_e1db04a8_d0d8_11ea_a89a_3cd92beea2ccrow1_col13 {\n            background-color:  yellow;\n        }    #T_e1db04a8_d0d8_11ea_a89a_3cd92beea2ccrow1_col14 {\n            background-color:  yellow;\n            background-color:  yellow;\n            background-color:  #90EE90;\n        }    #T_e1db04a8_d0d8_11ea_a89a_3cd92beea2ccrow1_col15 {\n            background-color:  yellow;\n        }    #T_e1db04a8_d0d8_11ea_a89a_3cd92beea2ccrow1_col16 {\n            background-color:  yellow;\n        }    #T_e1db04a8_d0d8_11ea_a89a_3cd92beea2ccrow1_col17 {\n            background-color:  yellow;\n        }    #T_e1db04a8_d0d8_11ea_a89a_3cd92beea2ccrow1_col18 {\n            background-color:  yellow;\n        }    #T_e1db04a8_d0d8_11ea_a89a_3cd92beea2ccrow1_col19 {\n            background-color:  yellow;\n        }    #T_e1db04a8_d0d8_11ea_a89a_3cd92beea2ccrow1_col20 {\n            background-color:  yellow;\n        }    #T_e1db04a8_d0d8_11ea_a89a_3cd92beea2ccrow1_col21 {\n            background-color:  yellow;\n        }    #T_e1db04a8_d0d8_11ea_a89a_3cd92beea2ccrow1_col22 {\n            background-color:  yellow;\n        }    #T_e1db04a8_d0d8_11ea_a89a_3cd92beea2ccrow1_col23 {\n            background-color:  yellow;\n        }    #T_e1db04a8_d0d8_11ea_a89a_3cd92beea2ccrow1_col24 {\n            background-color:  yellow;\n        }    #T_e1db04a8_d0d8_11ea_a89a_3cd92beea2ccrow1_col25 {\n            background-color:  yellow;\n        }    #T_e1db04a8_d0d8_11ea_a89a_3cd92beea2ccrow2_col11 {\n            background-color:  yellow;\n        }    #T_e1db04a8_d0d8_11ea_a89a_3cd92beea2ccrow2_col14 {\n            background-color:  yellow;\n        }    #T_e1db04a8_d0d8_11ea_a89a_3cd92beea2ccrow3_col11 {\n            background-color:  yellow;\n        }    #T_e1db04a8_d0d8_11ea_a89a_3cd92beea2ccrow3_col14 {\n            background-color:  yellow;\n        }    #T_e1db04a8_d0d8_11ea_a89a_3cd92beea2ccrow4_col11 {\n            background-color:  yellow;\n        }    #T_e1db04a8_d0d8_11ea_a89a_3cd92beea2ccrow4_col14 {\n            background-color:  yellow;\n        }    #T_e1db04a8_d0d8_11ea_a89a_3cd92beea2ccrow5_col11 {\n            background-color:  yellow;\n        }    #T_e1db04a8_d0d8_11ea_a89a_3cd92beea2ccrow5_col14 {\n            background-color:  yellow;\n        }    #T_e1db04a8_d0d8_11ea_a89a_3cd92beea2ccrow6_col11 {\n            background-color:  yellow;\n        }    #T_e1db04a8_d0d8_11ea_a89a_3cd92beea2ccrow6_col14 {\n            background-color:  yellow;\n        }    #T_e1db04a8_d0d8_11ea_a89a_3cd92beea2ccrow7_col11 {\n            background-color:  yellow;\n        }    #T_e1db04a8_d0d8_11ea_a89a_3cd92beea2ccrow7_col14 {\n            background-color:  yellow;\n        }    #T_e1db04a8_d0d8_11ea_a89a_3cd92beea2ccrow8_col0 {\n            background-color:  yellow;\n        }    #T_e1db04a8_d0d8_11ea_a89a_3cd92beea2ccrow8_col1 {\n            background-color:  yellow;\n        }    #T_e1db04a8_d0d8_11ea_a89a_3cd92beea2ccrow8_col2 {\n            background-color:  yellow;\n        }    #T_e1db04a8_d0d8_11ea_a89a_3cd92beea2ccrow8_col3 {\n            background-color:  yellow;\n        }    #T_e1db04a8_d0d8_11ea_a89a_3cd92beea2ccrow8_col4 {\n            background-color:  yellow;\n        }    #T_e1db04a8_d0d8_11ea_a89a_3cd92beea2ccrow8_col5 {\n            background-color:  yellow;\n        }    #T_e1db04a8_d0d8_11ea_a89a_3cd92beea2ccrow8_col6 {\n            background-color:  yellow;\n        }    #T_e1db04a8_d0d8_11ea_a89a_3cd92beea2ccrow8_col7 {\n            background-color:  yellow;\n        }    #T_e1db04a8_d0d8_11ea_a89a_3cd92beea2ccrow8_col8 {\n            background-color:  yellow;\n        }    #T_e1db04a8_d0d8_11ea_a89a_3cd92beea2ccrow8_col9 {\n            background-color:  yellow;\n        }    #T_e1db04a8_d0d8_11ea_a89a_3cd92beea2ccrow8_col10 {\n            background-color:  yellow;\n        }    #T_e1db04a8_d0d8_11ea_a89a_3cd92beea2ccrow8_col11 {\n            background-color:  yellow;\n            background-color:  yellow;\n        }    #T_e1db04a8_d0d8_11ea_a89a_3cd92beea2ccrow8_col12 {\n            background-color:  yellow;\n        }    #T_e1db04a8_d0d8_11ea_a89a_3cd92beea2ccrow8_col13 {\n            background-color:  yellow;\n        }    #T_e1db04a8_d0d8_11ea_a89a_3cd92beea2ccrow8_col14 {\n            background-color:  yellow;\n            background-color:  yellow;\n        }    #T_e1db04a8_d0d8_11ea_a89a_3cd92beea2ccrow8_col15 {\n            background-color:  yellow;\n        }    #T_e1db04a8_d0d8_11ea_a89a_3cd92beea2ccrow8_col16 {\n            background-color:  yellow;\n        }    #T_e1db04a8_d0d8_11ea_a89a_3cd92beea2ccrow8_col17 {\n            background-color:  yellow;\n        }    #T_e1db04a8_d0d8_11ea_a89a_3cd92beea2ccrow8_col18 {\n            background-color:  yellow;\n        }    #T_e1db04a8_d0d8_11ea_a89a_3cd92beea2ccrow8_col19 {\n            background-color:  yellow;\n        }    #T_e1db04a8_d0d8_11ea_a89a_3cd92beea2ccrow8_col20 {\n            background-color:  yellow;\n        }    #T_e1db04a8_d0d8_11ea_a89a_3cd92beea2ccrow8_col21 {\n            background-color:  yellow;\n        }    #T_e1db04a8_d0d8_11ea_a89a_3cd92beea2ccrow8_col22 {\n            background-color:  yellow;\n        }    #T_e1db04a8_d0d8_11ea_a89a_3cd92beea2ccrow8_col23 {\n            background-color:  yellow;\n        }    #T_e1db04a8_d0d8_11ea_a89a_3cd92beea2ccrow8_col24 {\n            background-color:  yellow;\n        }    #T_e1db04a8_d0d8_11ea_a89a_3cd92beea2ccrow8_col25 {\n            background-color:  yellow;\n        }    #T_e1db04a8_d0d8_11ea_a89a_3cd92beea2ccrow9_col11 {\n            background-color:  yellow;\n        }    #T_e1db04a8_d0d8_11ea_a89a_3cd92beea2ccrow9_col14 {\n            background-color:  yellow;\n        }    #T_e1db04a8_d0d8_11ea_a89a_3cd92beea2ccrow10_col11 {\n            background-color:  yellow;\n        }    #T_e1db04a8_d0d8_11ea_a89a_3cd92beea2ccrow10_col14 {\n            background-color:  yellow;\n        }    #T_e1db04a8_d0d8_11ea_a89a_3cd92beea2ccrow11_col11 {\n            background-color:  yellow;\n        }    #T_e1db04a8_d0d8_11ea_a89a_3cd92beea2ccrow11_col14 {\n            background-color:  yellow;\n        }    #T_e1db04a8_d0d8_11ea_a89a_3cd92beea2ccrow12_col11 {\n            background-color:  yellow;\n        }    #T_e1db04a8_d0d8_11ea_a89a_3cd92beea2ccrow12_col14 {\n            background-color:  yellow;\n        }</style><table id=\"T_e1db04a8_d0d8_11ea_a89a_3cd92beea2cc\" style=\"font-size: 10px\"><thead>    <tr>        <th class=\"blank level0\" ></th>        <th class=\"col_heading level0 col0\" >1</th>        <th class=\"col_heading level0 col1\" >2</th>        <th class=\"col_heading level0 col2\" >3</th>        <th class=\"col_heading level0 col3\" >4</th>        <th class=\"col_heading level0 col4\" >5</th>        <th class=\"col_heading level0 col5\" >6</th>        <th class=\"col_heading level0 col6\" >7</th>        <th class=\"col_heading level0 col7\" >8</th>        <th class=\"col_heading level0 col8\" >9</th>        <th class=\"col_heading level0 col9\" >10</th>        <th class=\"col_heading level0 col10\" >11</th>        <th class=\"col_heading level0 col11\" >12</th>        <th class=\"col_heading level0 col12\" >13</th>        <th class=\"col_heading level0 col13\" >14</th>        <th class=\"col_heading level0 col14\" >15</th>        <th class=\"col_heading level0 col15\" >16</th>        <th class=\"col_heading level0 col16\" >17</th>        <th class=\"col_heading level0 col17\" >18</th>        <th class=\"col_heading level0 col18\" >19</th>        <th class=\"col_heading level0 col19\" >20</th>        <th class=\"col_heading level0 col20\" >21</th>        <th class=\"col_heading level0 col21\" >22</th>        <th class=\"col_heading level0 col22\" >23</th>        <th class=\"col_heading level0 col23\" >24</th>        <th class=\"col_heading level0 col24\" >25</th>        <th class=\"col_heading level0 col25\" >26</th>    </tr></thead><tbody>\n                <tr>\n                        <th id=\"T_e1db04a8_d0d8_11ea_a89a_3cd92beea2cclevel0_row0\" class=\"row_heading level0 row0\" >1</th>\n                        <td id=\"T_e1db04a8_d0d8_11ea_a89a_3cd92beea2ccrow0_col0\" class=\"data row0 col0\" >1</td>\n                        <td id=\"T_e1db04a8_d0d8_11ea_a89a_3cd92beea2ccrow0_col1\" class=\"data row0 col1\" >2</td>\n                        <td id=\"T_e1db04a8_d0d8_11ea_a89a_3cd92beea2ccrow0_col2\" class=\"data row0 col2\" >3</td>\n                        <td id=\"T_e1db04a8_d0d8_11ea_a89a_3cd92beea2ccrow0_col3\" class=\"data row0 col3\" >4</td>\n                        <td id=\"T_e1db04a8_d0d8_11ea_a89a_3cd92beea2ccrow0_col4\" class=\"data row0 col4\" >5</td>\n                        <td id=\"T_e1db04a8_d0d8_11ea_a89a_3cd92beea2ccrow0_col5\" class=\"data row0 col5\" >6</td>\n                        <td id=\"T_e1db04a8_d0d8_11ea_a89a_3cd92beea2ccrow0_col6\" class=\"data row0 col6\" >7</td>\n                        <td id=\"T_e1db04a8_d0d8_11ea_a89a_3cd92beea2ccrow0_col7\" class=\"data row0 col7\" >8</td>\n                        <td id=\"T_e1db04a8_d0d8_11ea_a89a_3cd92beea2ccrow0_col8\" class=\"data row0 col8\" >9</td>\n                        <td id=\"T_e1db04a8_d0d8_11ea_a89a_3cd92beea2ccrow0_col9\" class=\"data row0 col9\" >10</td>\n                        <td id=\"T_e1db04a8_d0d8_11ea_a89a_3cd92beea2ccrow0_col10\" class=\"data row0 col10\" >11</td>\n                        <td id=\"T_e1db04a8_d0d8_11ea_a89a_3cd92beea2ccrow0_col11\" class=\"data row0 col11\" >12</td>\n                        <td id=\"T_e1db04a8_d0d8_11ea_a89a_3cd92beea2ccrow0_col12\" class=\"data row0 col12\" >13</td>\n                        <td id=\"T_e1db04a8_d0d8_11ea_a89a_3cd92beea2ccrow0_col13\" class=\"data row0 col13\" >14</td>\n                        <td id=\"T_e1db04a8_d0d8_11ea_a89a_3cd92beea2ccrow0_col14\" class=\"data row0 col14\" >15</td>\n                        <td id=\"T_e1db04a8_d0d8_11ea_a89a_3cd92beea2ccrow0_col15\" class=\"data row0 col15\" >16</td>\n                        <td id=\"T_e1db04a8_d0d8_11ea_a89a_3cd92beea2ccrow0_col16\" class=\"data row0 col16\" >17</td>\n                        <td id=\"T_e1db04a8_d0d8_11ea_a89a_3cd92beea2ccrow0_col17\" class=\"data row0 col17\" >18</td>\n                        <td id=\"T_e1db04a8_d0d8_11ea_a89a_3cd92beea2ccrow0_col18\" class=\"data row0 col18\" >19</td>\n                        <td id=\"T_e1db04a8_d0d8_11ea_a89a_3cd92beea2ccrow0_col19\" class=\"data row0 col19\" >20</td>\n                        <td id=\"T_e1db04a8_d0d8_11ea_a89a_3cd92beea2ccrow0_col20\" class=\"data row0 col20\" >21</td>\n                        <td id=\"T_e1db04a8_d0d8_11ea_a89a_3cd92beea2ccrow0_col21\" class=\"data row0 col21\" >22</td>\n                        <td id=\"T_e1db04a8_d0d8_11ea_a89a_3cd92beea2ccrow0_col22\" class=\"data row0 col22\" >23</td>\n                        <td id=\"T_e1db04a8_d0d8_11ea_a89a_3cd92beea2ccrow0_col23\" class=\"data row0 col23\" >24</td>\n                        <td id=\"T_e1db04a8_d0d8_11ea_a89a_3cd92beea2ccrow0_col24\" class=\"data row0 col24\" >25</td>\n                        <td id=\"T_e1db04a8_d0d8_11ea_a89a_3cd92beea2ccrow0_col25\" class=\"data row0 col25\" >26</td>\n            </tr>\n            <tr>\n                        <th id=\"T_e1db04a8_d0d8_11ea_a89a_3cd92beea2cclevel0_row1\" class=\"row_heading level0 row1\" >2</th>\n                        <td id=\"T_e1db04a8_d0d8_11ea_a89a_3cd92beea2ccrow1_col0\" class=\"data row1 col0\" >25</td>\n                        <td id=\"T_e1db04a8_d0d8_11ea_a89a_3cd92beea2ccrow1_col1\" class=\"data row1 col1\" >24</td>\n                        <td id=\"T_e1db04a8_d0d8_11ea_a89a_3cd92beea2ccrow1_col2\" class=\"data row1 col2\" >23</td>\n                        <td id=\"T_e1db04a8_d0d8_11ea_a89a_3cd92beea2ccrow1_col3\" class=\"data row1 col3\" >22</td>\n                        <td id=\"T_e1db04a8_d0d8_11ea_a89a_3cd92beea2ccrow1_col4\" class=\"data row1 col4\" >21</td>\n                        <td id=\"T_e1db04a8_d0d8_11ea_a89a_3cd92beea2ccrow1_col5\" class=\"data row1 col5\" >20</td>\n                        <td id=\"T_e1db04a8_d0d8_11ea_a89a_3cd92beea2ccrow1_col6\" class=\"data row1 col6\" >19</td>\n                        <td id=\"T_e1db04a8_d0d8_11ea_a89a_3cd92beea2ccrow1_col7\" class=\"data row1 col7\" >18</td>\n                        <td id=\"T_e1db04a8_d0d8_11ea_a89a_3cd92beea2ccrow1_col8\" class=\"data row1 col8\" >17</td>\n                        <td id=\"T_e1db04a8_d0d8_11ea_a89a_3cd92beea2ccrow1_col9\" class=\"data row1 col9\" >16</td>\n                        <td id=\"T_e1db04a8_d0d8_11ea_a89a_3cd92beea2ccrow1_col10\" class=\"data row1 col10\" >15</td>\n                        <td id=\"T_e1db04a8_d0d8_11ea_a89a_3cd92beea2ccrow1_col11\" class=\"data row1 col11\" >14</td>\n                        <td id=\"T_e1db04a8_d0d8_11ea_a89a_3cd92beea2ccrow1_col12\" class=\"data row1 col12\" >13</td>\n                        <td id=\"T_e1db04a8_d0d8_11ea_a89a_3cd92beea2ccrow1_col13\" class=\"data row1 col13\" >12</td>\n                        <td id=\"T_e1db04a8_d0d8_11ea_a89a_3cd92beea2ccrow1_col14\" class=\"data row1 col14\" >11</td>\n                        <td id=\"T_e1db04a8_d0d8_11ea_a89a_3cd92beea2ccrow1_col15\" class=\"data row1 col15\" >10</td>\n                        <td id=\"T_e1db04a8_d0d8_11ea_a89a_3cd92beea2ccrow1_col16\" class=\"data row1 col16\" >9</td>\n                        <td id=\"T_e1db04a8_d0d8_11ea_a89a_3cd92beea2ccrow1_col17\" class=\"data row1 col17\" >8</td>\n                        <td id=\"T_e1db04a8_d0d8_11ea_a89a_3cd92beea2ccrow1_col18\" class=\"data row1 col18\" >7</td>\n                        <td id=\"T_e1db04a8_d0d8_11ea_a89a_3cd92beea2ccrow1_col19\" class=\"data row1 col19\" >6</td>\n                        <td id=\"T_e1db04a8_d0d8_11ea_a89a_3cd92beea2ccrow1_col20\" class=\"data row1 col20\" >5</td>\n                        <td id=\"T_e1db04a8_d0d8_11ea_a89a_3cd92beea2ccrow1_col21\" class=\"data row1 col21\" >4</td>\n                        <td id=\"T_e1db04a8_d0d8_11ea_a89a_3cd92beea2ccrow1_col22\" class=\"data row1 col22\" >3</td>\n                        <td id=\"T_e1db04a8_d0d8_11ea_a89a_3cd92beea2ccrow1_col23\" class=\"data row1 col23\" >2</td>\n                        <td id=\"T_e1db04a8_d0d8_11ea_a89a_3cd92beea2ccrow1_col24\" class=\"data row1 col24\" >1</td>\n                        <td id=\"T_e1db04a8_d0d8_11ea_a89a_3cd92beea2ccrow1_col25\" class=\"data row1 col25\" >26</td>\n            </tr>\n            <tr>\n                        <th id=\"T_e1db04a8_d0d8_11ea_a89a_3cd92beea2cclevel0_row2\" class=\"row_heading level0 row2\" >3</th>\n                        <td id=\"T_e1db04a8_d0d8_11ea_a89a_3cd92beea2ccrow2_col0\" class=\"data row2 col0\" >23</td>\n                        <td id=\"T_e1db04a8_d0d8_11ea_a89a_3cd92beea2ccrow2_col1\" class=\"data row2 col1\" >20</td>\n                        <td id=\"T_e1db04a8_d0d8_11ea_a89a_3cd92beea2ccrow2_col2\" class=\"data row2 col2\" >17</td>\n                        <td id=\"T_e1db04a8_d0d8_11ea_a89a_3cd92beea2ccrow2_col3\" class=\"data row2 col3\" >14</td>\n                        <td id=\"T_e1db04a8_d0d8_11ea_a89a_3cd92beea2ccrow2_col4\" class=\"data row2 col4\" >11</td>\n                        <td id=\"T_e1db04a8_d0d8_11ea_a89a_3cd92beea2ccrow2_col5\" class=\"data row2 col5\" >8</td>\n                        <td id=\"T_e1db04a8_d0d8_11ea_a89a_3cd92beea2ccrow2_col6\" class=\"data row2 col6\" >5</td>\n                        <td id=\"T_e1db04a8_d0d8_11ea_a89a_3cd92beea2ccrow2_col7\" class=\"data row2 col7\" >2</td>\n                        <td id=\"T_e1db04a8_d0d8_11ea_a89a_3cd92beea2ccrow2_col8\" class=\"data row2 col8\" >25</td>\n                        <td id=\"T_e1db04a8_d0d8_11ea_a89a_3cd92beea2ccrow2_col9\" class=\"data row2 col9\" >22</td>\n                        <td id=\"T_e1db04a8_d0d8_11ea_a89a_3cd92beea2ccrow2_col10\" class=\"data row2 col10\" >19</td>\n                        <td id=\"T_e1db04a8_d0d8_11ea_a89a_3cd92beea2ccrow2_col11\" class=\"data row2 col11\" >16</td>\n                        <td id=\"T_e1db04a8_d0d8_11ea_a89a_3cd92beea2ccrow2_col12\" class=\"data row2 col12\" >13</td>\n                        <td id=\"T_e1db04a8_d0d8_11ea_a89a_3cd92beea2ccrow2_col13\" class=\"data row2 col13\" >10</td>\n                        <td id=\"T_e1db04a8_d0d8_11ea_a89a_3cd92beea2ccrow2_col14\" class=\"data row2 col14\" >7</td>\n                        <td id=\"T_e1db04a8_d0d8_11ea_a89a_3cd92beea2ccrow2_col15\" class=\"data row2 col15\" >4</td>\n                        <td id=\"T_e1db04a8_d0d8_11ea_a89a_3cd92beea2ccrow2_col16\" class=\"data row2 col16\" >1</td>\n                        <td id=\"T_e1db04a8_d0d8_11ea_a89a_3cd92beea2ccrow2_col17\" class=\"data row2 col17\" >24</td>\n                        <td id=\"T_e1db04a8_d0d8_11ea_a89a_3cd92beea2ccrow2_col18\" class=\"data row2 col18\" >21</td>\n                        <td id=\"T_e1db04a8_d0d8_11ea_a89a_3cd92beea2ccrow2_col19\" class=\"data row2 col19\" >18</td>\n                        <td id=\"T_e1db04a8_d0d8_11ea_a89a_3cd92beea2ccrow2_col20\" class=\"data row2 col20\" >15</td>\n                        <td id=\"T_e1db04a8_d0d8_11ea_a89a_3cd92beea2ccrow2_col21\" class=\"data row2 col21\" >12</td>\n                        <td id=\"T_e1db04a8_d0d8_11ea_a89a_3cd92beea2ccrow2_col22\" class=\"data row2 col22\" >9</td>\n                        <td id=\"T_e1db04a8_d0d8_11ea_a89a_3cd92beea2ccrow2_col23\" class=\"data row2 col23\" >6</td>\n                        <td id=\"T_e1db04a8_d0d8_11ea_a89a_3cd92beea2ccrow2_col24\" class=\"data row2 col24\" >3</td>\n                        <td id=\"T_e1db04a8_d0d8_11ea_a89a_3cd92beea2ccrow2_col25\" class=\"data row2 col25\" >26</td>\n            </tr>\n            <tr>\n                        <th id=\"T_e1db04a8_d0d8_11ea_a89a_3cd92beea2cclevel0_row3\" class=\"row_heading level0 row3\" >4</th>\n                        <td id=\"T_e1db04a8_d0d8_11ea_a89a_3cd92beea2ccrow3_col0\" class=\"data row3 col0\" >3</td>\n                        <td id=\"T_e1db04a8_d0d8_11ea_a89a_3cd92beea2ccrow3_col1\" class=\"data row3 col1\" >6</td>\n                        <td id=\"T_e1db04a8_d0d8_11ea_a89a_3cd92beea2ccrow3_col2\" class=\"data row3 col2\" >9</td>\n                        <td id=\"T_e1db04a8_d0d8_11ea_a89a_3cd92beea2ccrow3_col3\" class=\"data row3 col3\" >12</td>\n                        <td id=\"T_e1db04a8_d0d8_11ea_a89a_3cd92beea2ccrow3_col4\" class=\"data row3 col4\" >15</td>\n                        <td id=\"T_e1db04a8_d0d8_11ea_a89a_3cd92beea2ccrow3_col5\" class=\"data row3 col5\" >18</td>\n                        <td id=\"T_e1db04a8_d0d8_11ea_a89a_3cd92beea2ccrow3_col6\" class=\"data row3 col6\" >21</td>\n                        <td id=\"T_e1db04a8_d0d8_11ea_a89a_3cd92beea2ccrow3_col7\" class=\"data row3 col7\" >24</td>\n                        <td id=\"T_e1db04a8_d0d8_11ea_a89a_3cd92beea2ccrow3_col8\" class=\"data row3 col8\" >1</td>\n                        <td id=\"T_e1db04a8_d0d8_11ea_a89a_3cd92beea2ccrow3_col9\" class=\"data row3 col9\" >4</td>\n                        <td id=\"T_e1db04a8_d0d8_11ea_a89a_3cd92beea2ccrow3_col10\" class=\"data row3 col10\" >7</td>\n                        <td id=\"T_e1db04a8_d0d8_11ea_a89a_3cd92beea2ccrow3_col11\" class=\"data row3 col11\" >10</td>\n                        <td id=\"T_e1db04a8_d0d8_11ea_a89a_3cd92beea2ccrow3_col12\" class=\"data row3 col12\" >13</td>\n                        <td id=\"T_e1db04a8_d0d8_11ea_a89a_3cd92beea2ccrow3_col13\" class=\"data row3 col13\" >16</td>\n                        <td id=\"T_e1db04a8_d0d8_11ea_a89a_3cd92beea2ccrow3_col14\" class=\"data row3 col14\" >19</td>\n                        <td id=\"T_e1db04a8_d0d8_11ea_a89a_3cd92beea2ccrow3_col15\" class=\"data row3 col15\" >22</td>\n                        <td id=\"T_e1db04a8_d0d8_11ea_a89a_3cd92beea2ccrow3_col16\" class=\"data row3 col16\" >25</td>\n                        <td id=\"T_e1db04a8_d0d8_11ea_a89a_3cd92beea2ccrow3_col17\" class=\"data row3 col17\" >2</td>\n                        <td id=\"T_e1db04a8_d0d8_11ea_a89a_3cd92beea2ccrow3_col18\" class=\"data row3 col18\" >5</td>\n                        <td id=\"T_e1db04a8_d0d8_11ea_a89a_3cd92beea2ccrow3_col19\" class=\"data row3 col19\" >8</td>\n                        <td id=\"T_e1db04a8_d0d8_11ea_a89a_3cd92beea2ccrow3_col20\" class=\"data row3 col20\" >11</td>\n                        <td id=\"T_e1db04a8_d0d8_11ea_a89a_3cd92beea2ccrow3_col21\" class=\"data row3 col21\" >14</td>\n                        <td id=\"T_e1db04a8_d0d8_11ea_a89a_3cd92beea2ccrow3_col22\" class=\"data row3 col22\" >17</td>\n                        <td id=\"T_e1db04a8_d0d8_11ea_a89a_3cd92beea2ccrow3_col23\" class=\"data row3 col23\" >20</td>\n                        <td id=\"T_e1db04a8_d0d8_11ea_a89a_3cd92beea2ccrow3_col24\" class=\"data row3 col24\" >23</td>\n                        <td id=\"T_e1db04a8_d0d8_11ea_a89a_3cd92beea2ccrow3_col25\" class=\"data row3 col25\" >26</td>\n            </tr>\n            <tr>\n                        <th id=\"T_e1db04a8_d0d8_11ea_a89a_3cd92beea2cclevel0_row4\" class=\"row_heading level0 row4\" >5</th>\n                        <td id=\"T_e1db04a8_d0d8_11ea_a89a_3cd92beea2ccrow4_col0\" class=\"data row4 col0\" >21</td>\n                        <td id=\"T_e1db04a8_d0d8_11ea_a89a_3cd92beea2ccrow4_col1\" class=\"data row4 col1\" >16</td>\n                        <td id=\"T_e1db04a8_d0d8_11ea_a89a_3cd92beea2ccrow4_col2\" class=\"data row4 col2\" >11</td>\n                        <td id=\"T_e1db04a8_d0d8_11ea_a89a_3cd92beea2ccrow4_col3\" class=\"data row4 col3\" >6</td>\n                        <td id=\"T_e1db04a8_d0d8_11ea_a89a_3cd92beea2ccrow4_col4\" class=\"data row4 col4\" >1</td>\n                        <td id=\"T_e1db04a8_d0d8_11ea_a89a_3cd92beea2ccrow4_col5\" class=\"data row4 col5\" >22</td>\n                        <td id=\"T_e1db04a8_d0d8_11ea_a89a_3cd92beea2ccrow4_col6\" class=\"data row4 col6\" >17</td>\n                        <td id=\"T_e1db04a8_d0d8_11ea_a89a_3cd92beea2ccrow4_col7\" class=\"data row4 col7\" >12</td>\n                        <td id=\"T_e1db04a8_d0d8_11ea_a89a_3cd92beea2ccrow4_col8\" class=\"data row4 col8\" >7</td>\n                        <td id=\"T_e1db04a8_d0d8_11ea_a89a_3cd92beea2ccrow4_col9\" class=\"data row4 col9\" >2</td>\n                        <td id=\"T_e1db04a8_d0d8_11ea_a89a_3cd92beea2ccrow4_col10\" class=\"data row4 col10\" >23</td>\n                        <td id=\"T_e1db04a8_d0d8_11ea_a89a_3cd92beea2ccrow4_col11\" class=\"data row4 col11\" >18</td>\n                        <td id=\"T_e1db04a8_d0d8_11ea_a89a_3cd92beea2ccrow4_col12\" class=\"data row4 col12\" >13</td>\n                        <td id=\"T_e1db04a8_d0d8_11ea_a89a_3cd92beea2ccrow4_col13\" class=\"data row4 col13\" >8</td>\n                        <td id=\"T_e1db04a8_d0d8_11ea_a89a_3cd92beea2ccrow4_col14\" class=\"data row4 col14\" >3</td>\n                        <td id=\"T_e1db04a8_d0d8_11ea_a89a_3cd92beea2ccrow4_col15\" class=\"data row4 col15\" >24</td>\n                        <td id=\"T_e1db04a8_d0d8_11ea_a89a_3cd92beea2ccrow4_col16\" class=\"data row4 col16\" >19</td>\n                        <td id=\"T_e1db04a8_d0d8_11ea_a89a_3cd92beea2ccrow4_col17\" class=\"data row4 col17\" >14</td>\n                        <td id=\"T_e1db04a8_d0d8_11ea_a89a_3cd92beea2ccrow4_col18\" class=\"data row4 col18\" >9</td>\n                        <td id=\"T_e1db04a8_d0d8_11ea_a89a_3cd92beea2ccrow4_col19\" class=\"data row4 col19\" >4</td>\n                        <td id=\"T_e1db04a8_d0d8_11ea_a89a_3cd92beea2ccrow4_col20\" class=\"data row4 col20\" >25</td>\n                        <td id=\"T_e1db04a8_d0d8_11ea_a89a_3cd92beea2ccrow4_col21\" class=\"data row4 col21\" >20</td>\n                        <td id=\"T_e1db04a8_d0d8_11ea_a89a_3cd92beea2ccrow4_col22\" class=\"data row4 col22\" >15</td>\n                        <td id=\"T_e1db04a8_d0d8_11ea_a89a_3cd92beea2ccrow4_col23\" class=\"data row4 col23\" >10</td>\n                        <td id=\"T_e1db04a8_d0d8_11ea_a89a_3cd92beea2ccrow4_col24\" class=\"data row4 col24\" >5</td>\n                        <td id=\"T_e1db04a8_d0d8_11ea_a89a_3cd92beea2ccrow4_col25\" class=\"data row4 col25\" >26</td>\n            </tr>\n            <tr>\n                        <th id=\"T_e1db04a8_d0d8_11ea_a89a_3cd92beea2cclevel0_row5\" class=\"row_heading level0 row5\" >6</th>\n                        <td id=\"T_e1db04a8_d0d8_11ea_a89a_3cd92beea2ccrow5_col0\" class=\"data row5 col0\" >5</td>\n                        <td id=\"T_e1db04a8_d0d8_11ea_a89a_3cd92beea2ccrow5_col1\" class=\"data row5 col1\" >10</td>\n                        <td id=\"T_e1db04a8_d0d8_11ea_a89a_3cd92beea2ccrow5_col2\" class=\"data row5 col2\" >15</td>\n                        <td id=\"T_e1db04a8_d0d8_11ea_a89a_3cd92beea2ccrow5_col3\" class=\"data row5 col3\" >20</td>\n                        <td id=\"T_e1db04a8_d0d8_11ea_a89a_3cd92beea2ccrow5_col4\" class=\"data row5 col4\" >25</td>\n                        <td id=\"T_e1db04a8_d0d8_11ea_a89a_3cd92beea2ccrow5_col5\" class=\"data row5 col5\" >4</td>\n                        <td id=\"T_e1db04a8_d0d8_11ea_a89a_3cd92beea2ccrow5_col6\" class=\"data row5 col6\" >9</td>\n                        <td id=\"T_e1db04a8_d0d8_11ea_a89a_3cd92beea2ccrow5_col7\" class=\"data row5 col7\" >14</td>\n                        <td id=\"T_e1db04a8_d0d8_11ea_a89a_3cd92beea2ccrow5_col8\" class=\"data row5 col8\" >19</td>\n                        <td id=\"T_e1db04a8_d0d8_11ea_a89a_3cd92beea2ccrow5_col9\" class=\"data row5 col9\" >24</td>\n                        <td id=\"T_e1db04a8_d0d8_11ea_a89a_3cd92beea2ccrow5_col10\" class=\"data row5 col10\" >3</td>\n                        <td id=\"T_e1db04a8_d0d8_11ea_a89a_3cd92beea2ccrow5_col11\" class=\"data row5 col11\" >8</td>\n                        <td id=\"T_e1db04a8_d0d8_11ea_a89a_3cd92beea2ccrow5_col12\" class=\"data row5 col12\" >13</td>\n                        <td id=\"T_e1db04a8_d0d8_11ea_a89a_3cd92beea2ccrow5_col13\" class=\"data row5 col13\" >18</td>\n                        <td id=\"T_e1db04a8_d0d8_11ea_a89a_3cd92beea2ccrow5_col14\" class=\"data row5 col14\" >23</td>\n                        <td id=\"T_e1db04a8_d0d8_11ea_a89a_3cd92beea2ccrow5_col15\" class=\"data row5 col15\" >2</td>\n                        <td id=\"T_e1db04a8_d0d8_11ea_a89a_3cd92beea2ccrow5_col16\" class=\"data row5 col16\" >7</td>\n                        <td id=\"T_e1db04a8_d0d8_11ea_a89a_3cd92beea2ccrow5_col17\" class=\"data row5 col17\" >12</td>\n                        <td id=\"T_e1db04a8_d0d8_11ea_a89a_3cd92beea2ccrow5_col18\" class=\"data row5 col18\" >17</td>\n                        <td id=\"T_e1db04a8_d0d8_11ea_a89a_3cd92beea2ccrow5_col19\" class=\"data row5 col19\" >22</td>\n                        <td id=\"T_e1db04a8_d0d8_11ea_a89a_3cd92beea2ccrow5_col20\" class=\"data row5 col20\" >1</td>\n                        <td id=\"T_e1db04a8_d0d8_11ea_a89a_3cd92beea2ccrow5_col21\" class=\"data row5 col21\" >6</td>\n                        <td id=\"T_e1db04a8_d0d8_11ea_a89a_3cd92beea2ccrow5_col22\" class=\"data row5 col22\" >11</td>\n                        <td id=\"T_e1db04a8_d0d8_11ea_a89a_3cd92beea2ccrow5_col23\" class=\"data row5 col23\" >16</td>\n                        <td id=\"T_e1db04a8_d0d8_11ea_a89a_3cd92beea2ccrow5_col24\" class=\"data row5 col24\" >21</td>\n                        <td id=\"T_e1db04a8_d0d8_11ea_a89a_3cd92beea2ccrow5_col25\" class=\"data row5 col25\" >26</td>\n            </tr>\n            <tr>\n                        <th id=\"T_e1db04a8_d0d8_11ea_a89a_3cd92beea2cclevel0_row6\" class=\"row_heading level0 row6\" >7</th>\n                        <td id=\"T_e1db04a8_d0d8_11ea_a89a_3cd92beea2ccrow6_col0\" class=\"data row6 col0\" >7</td>\n                        <td id=\"T_e1db04a8_d0d8_11ea_a89a_3cd92beea2ccrow6_col1\" class=\"data row6 col1\" >14</td>\n                        <td id=\"T_e1db04a8_d0d8_11ea_a89a_3cd92beea2ccrow6_col2\" class=\"data row6 col2\" >21</td>\n                        <td id=\"T_e1db04a8_d0d8_11ea_a89a_3cd92beea2ccrow6_col3\" class=\"data row6 col3\" >2</td>\n                        <td id=\"T_e1db04a8_d0d8_11ea_a89a_3cd92beea2ccrow6_col4\" class=\"data row6 col4\" >9</td>\n                        <td id=\"T_e1db04a8_d0d8_11ea_a89a_3cd92beea2ccrow6_col5\" class=\"data row6 col5\" >16</td>\n                        <td id=\"T_e1db04a8_d0d8_11ea_a89a_3cd92beea2ccrow6_col6\" class=\"data row6 col6\" >23</td>\n                        <td id=\"T_e1db04a8_d0d8_11ea_a89a_3cd92beea2ccrow6_col7\" class=\"data row6 col7\" >4</td>\n                        <td id=\"T_e1db04a8_d0d8_11ea_a89a_3cd92beea2ccrow6_col8\" class=\"data row6 col8\" >11</td>\n                        <td id=\"T_e1db04a8_d0d8_11ea_a89a_3cd92beea2ccrow6_col9\" class=\"data row6 col9\" >18</td>\n                        <td id=\"T_e1db04a8_d0d8_11ea_a89a_3cd92beea2ccrow6_col10\" class=\"data row6 col10\" >25</td>\n                        <td id=\"T_e1db04a8_d0d8_11ea_a89a_3cd92beea2ccrow6_col11\" class=\"data row6 col11\" >6</td>\n                        <td id=\"T_e1db04a8_d0d8_11ea_a89a_3cd92beea2ccrow6_col12\" class=\"data row6 col12\" >13</td>\n                        <td id=\"T_e1db04a8_d0d8_11ea_a89a_3cd92beea2ccrow6_col13\" class=\"data row6 col13\" >20</td>\n                        <td id=\"T_e1db04a8_d0d8_11ea_a89a_3cd92beea2ccrow6_col14\" class=\"data row6 col14\" >1</td>\n                        <td id=\"T_e1db04a8_d0d8_11ea_a89a_3cd92beea2ccrow6_col15\" class=\"data row6 col15\" >8</td>\n                        <td id=\"T_e1db04a8_d0d8_11ea_a89a_3cd92beea2ccrow6_col16\" class=\"data row6 col16\" >15</td>\n                        <td id=\"T_e1db04a8_d0d8_11ea_a89a_3cd92beea2ccrow6_col17\" class=\"data row6 col17\" >22</td>\n                        <td id=\"T_e1db04a8_d0d8_11ea_a89a_3cd92beea2ccrow6_col18\" class=\"data row6 col18\" >3</td>\n                        <td id=\"T_e1db04a8_d0d8_11ea_a89a_3cd92beea2ccrow6_col19\" class=\"data row6 col19\" >10</td>\n                        <td id=\"T_e1db04a8_d0d8_11ea_a89a_3cd92beea2ccrow6_col20\" class=\"data row6 col20\" >17</td>\n                        <td id=\"T_e1db04a8_d0d8_11ea_a89a_3cd92beea2ccrow6_col21\" class=\"data row6 col21\" >24</td>\n                        <td id=\"T_e1db04a8_d0d8_11ea_a89a_3cd92beea2ccrow6_col22\" class=\"data row6 col22\" >5</td>\n                        <td id=\"T_e1db04a8_d0d8_11ea_a89a_3cd92beea2ccrow6_col23\" class=\"data row6 col23\" >12</td>\n                        <td id=\"T_e1db04a8_d0d8_11ea_a89a_3cd92beea2ccrow6_col24\" class=\"data row6 col24\" >19</td>\n                        <td id=\"T_e1db04a8_d0d8_11ea_a89a_3cd92beea2ccrow6_col25\" class=\"data row6 col25\" >26</td>\n            </tr>\n            <tr>\n                        <th id=\"T_e1db04a8_d0d8_11ea_a89a_3cd92beea2cclevel0_row7\" class=\"row_heading level0 row7\" >8</th>\n                        <td id=\"T_e1db04a8_d0d8_11ea_a89a_3cd92beea2ccrow7_col0\" class=\"data row7 col0\" >19</td>\n                        <td id=\"T_e1db04a8_d0d8_11ea_a89a_3cd92beea2ccrow7_col1\" class=\"data row7 col1\" >12</td>\n                        <td id=\"T_e1db04a8_d0d8_11ea_a89a_3cd92beea2ccrow7_col2\" class=\"data row7 col2\" >5</td>\n                        <td id=\"T_e1db04a8_d0d8_11ea_a89a_3cd92beea2ccrow7_col3\" class=\"data row7 col3\" >24</td>\n                        <td id=\"T_e1db04a8_d0d8_11ea_a89a_3cd92beea2ccrow7_col4\" class=\"data row7 col4\" >17</td>\n                        <td id=\"T_e1db04a8_d0d8_11ea_a89a_3cd92beea2ccrow7_col5\" class=\"data row7 col5\" >10</td>\n                        <td id=\"T_e1db04a8_d0d8_11ea_a89a_3cd92beea2ccrow7_col6\" class=\"data row7 col6\" >3</td>\n                        <td id=\"T_e1db04a8_d0d8_11ea_a89a_3cd92beea2ccrow7_col7\" class=\"data row7 col7\" >22</td>\n                        <td id=\"T_e1db04a8_d0d8_11ea_a89a_3cd92beea2ccrow7_col8\" class=\"data row7 col8\" >15</td>\n                        <td id=\"T_e1db04a8_d0d8_11ea_a89a_3cd92beea2ccrow7_col9\" class=\"data row7 col9\" >8</td>\n                        <td id=\"T_e1db04a8_d0d8_11ea_a89a_3cd92beea2ccrow7_col10\" class=\"data row7 col10\" >1</td>\n                        <td id=\"T_e1db04a8_d0d8_11ea_a89a_3cd92beea2ccrow7_col11\" class=\"data row7 col11\" >20</td>\n                        <td id=\"T_e1db04a8_d0d8_11ea_a89a_3cd92beea2ccrow7_col12\" class=\"data row7 col12\" >13</td>\n                        <td id=\"T_e1db04a8_d0d8_11ea_a89a_3cd92beea2ccrow7_col13\" class=\"data row7 col13\" >6</td>\n                        <td id=\"T_e1db04a8_d0d8_11ea_a89a_3cd92beea2ccrow7_col14\" class=\"data row7 col14\" >25</td>\n                        <td id=\"T_e1db04a8_d0d8_11ea_a89a_3cd92beea2ccrow7_col15\" class=\"data row7 col15\" >18</td>\n                        <td id=\"T_e1db04a8_d0d8_11ea_a89a_3cd92beea2ccrow7_col16\" class=\"data row7 col16\" >11</td>\n                        <td id=\"T_e1db04a8_d0d8_11ea_a89a_3cd92beea2ccrow7_col17\" class=\"data row7 col17\" >4</td>\n                        <td id=\"T_e1db04a8_d0d8_11ea_a89a_3cd92beea2ccrow7_col18\" class=\"data row7 col18\" >23</td>\n                        <td id=\"T_e1db04a8_d0d8_11ea_a89a_3cd92beea2ccrow7_col19\" class=\"data row7 col19\" >16</td>\n                        <td id=\"T_e1db04a8_d0d8_11ea_a89a_3cd92beea2ccrow7_col20\" class=\"data row7 col20\" >9</td>\n                        <td id=\"T_e1db04a8_d0d8_11ea_a89a_3cd92beea2ccrow7_col21\" class=\"data row7 col21\" >2</td>\n                        <td id=\"T_e1db04a8_d0d8_11ea_a89a_3cd92beea2ccrow7_col22\" class=\"data row7 col22\" >21</td>\n                        <td id=\"T_e1db04a8_d0d8_11ea_a89a_3cd92beea2ccrow7_col23\" class=\"data row7 col23\" >14</td>\n                        <td id=\"T_e1db04a8_d0d8_11ea_a89a_3cd92beea2ccrow7_col24\" class=\"data row7 col24\" >7</td>\n                        <td id=\"T_e1db04a8_d0d8_11ea_a89a_3cd92beea2ccrow7_col25\" class=\"data row7 col25\" >26</td>\n            </tr>\n            <tr>\n                        <th id=\"T_e1db04a8_d0d8_11ea_a89a_3cd92beea2cclevel0_row8\" class=\"row_heading level0 row8\" >9</th>\n                        <td id=\"T_e1db04a8_d0d8_11ea_a89a_3cd92beea2ccrow8_col0\" class=\"data row8 col0\" >17</td>\n                        <td id=\"T_e1db04a8_d0d8_11ea_a89a_3cd92beea2ccrow8_col1\" class=\"data row8 col1\" >8</td>\n                        <td id=\"T_e1db04a8_d0d8_11ea_a89a_3cd92beea2ccrow8_col2\" class=\"data row8 col2\" >25</td>\n                        <td id=\"T_e1db04a8_d0d8_11ea_a89a_3cd92beea2ccrow8_col3\" class=\"data row8 col3\" >16</td>\n                        <td id=\"T_e1db04a8_d0d8_11ea_a89a_3cd92beea2ccrow8_col4\" class=\"data row8 col4\" >7</td>\n                        <td id=\"T_e1db04a8_d0d8_11ea_a89a_3cd92beea2ccrow8_col5\" class=\"data row8 col5\" >24</td>\n                        <td id=\"T_e1db04a8_d0d8_11ea_a89a_3cd92beea2ccrow8_col6\" class=\"data row8 col6\" >15</td>\n                        <td id=\"T_e1db04a8_d0d8_11ea_a89a_3cd92beea2ccrow8_col7\" class=\"data row8 col7\" >6</td>\n                        <td id=\"T_e1db04a8_d0d8_11ea_a89a_3cd92beea2ccrow8_col8\" class=\"data row8 col8\" >23</td>\n                        <td id=\"T_e1db04a8_d0d8_11ea_a89a_3cd92beea2ccrow8_col9\" class=\"data row8 col9\" >14</td>\n                        <td id=\"T_e1db04a8_d0d8_11ea_a89a_3cd92beea2ccrow8_col10\" class=\"data row8 col10\" >5</td>\n                        <td id=\"T_e1db04a8_d0d8_11ea_a89a_3cd92beea2ccrow8_col11\" class=\"data row8 col11\" >22</td>\n                        <td id=\"T_e1db04a8_d0d8_11ea_a89a_3cd92beea2ccrow8_col12\" class=\"data row8 col12\" >13</td>\n                        <td id=\"T_e1db04a8_d0d8_11ea_a89a_3cd92beea2ccrow8_col13\" class=\"data row8 col13\" >4</td>\n                        <td id=\"T_e1db04a8_d0d8_11ea_a89a_3cd92beea2ccrow8_col14\" class=\"data row8 col14\" >21</td>\n                        <td id=\"T_e1db04a8_d0d8_11ea_a89a_3cd92beea2ccrow8_col15\" class=\"data row8 col15\" >12</td>\n                        <td id=\"T_e1db04a8_d0d8_11ea_a89a_3cd92beea2ccrow8_col16\" class=\"data row8 col16\" >3</td>\n                        <td id=\"T_e1db04a8_d0d8_11ea_a89a_3cd92beea2ccrow8_col17\" class=\"data row8 col17\" >20</td>\n                        <td id=\"T_e1db04a8_d0d8_11ea_a89a_3cd92beea2ccrow8_col18\" class=\"data row8 col18\" >11</td>\n                        <td id=\"T_e1db04a8_d0d8_11ea_a89a_3cd92beea2ccrow8_col19\" class=\"data row8 col19\" >2</td>\n                        <td id=\"T_e1db04a8_d0d8_11ea_a89a_3cd92beea2ccrow8_col20\" class=\"data row8 col20\" >19</td>\n                        <td id=\"T_e1db04a8_d0d8_11ea_a89a_3cd92beea2ccrow8_col21\" class=\"data row8 col21\" >10</td>\n                        <td id=\"T_e1db04a8_d0d8_11ea_a89a_3cd92beea2ccrow8_col22\" class=\"data row8 col22\" >1</td>\n                        <td id=\"T_e1db04a8_d0d8_11ea_a89a_3cd92beea2ccrow8_col23\" class=\"data row8 col23\" >18</td>\n                        <td id=\"T_e1db04a8_d0d8_11ea_a89a_3cd92beea2ccrow8_col24\" class=\"data row8 col24\" >9</td>\n                        <td id=\"T_e1db04a8_d0d8_11ea_a89a_3cd92beea2ccrow8_col25\" class=\"data row8 col25\" >26</td>\n            </tr>\n            <tr>\n                        <th id=\"T_e1db04a8_d0d8_11ea_a89a_3cd92beea2cclevel0_row9\" class=\"row_heading level0 row9\" >10</th>\n                        <td id=\"T_e1db04a8_d0d8_11ea_a89a_3cd92beea2ccrow9_col0\" class=\"data row9 col0\" >9</td>\n                        <td id=\"T_e1db04a8_d0d8_11ea_a89a_3cd92beea2ccrow9_col1\" class=\"data row9 col1\" >18</td>\n                        <td id=\"T_e1db04a8_d0d8_11ea_a89a_3cd92beea2ccrow9_col2\" class=\"data row9 col2\" >1</td>\n                        <td id=\"T_e1db04a8_d0d8_11ea_a89a_3cd92beea2ccrow9_col3\" class=\"data row9 col3\" >10</td>\n                        <td id=\"T_e1db04a8_d0d8_11ea_a89a_3cd92beea2ccrow9_col4\" class=\"data row9 col4\" >19</td>\n                        <td id=\"T_e1db04a8_d0d8_11ea_a89a_3cd92beea2ccrow9_col5\" class=\"data row9 col5\" >2</td>\n                        <td id=\"T_e1db04a8_d0d8_11ea_a89a_3cd92beea2ccrow9_col6\" class=\"data row9 col6\" >11</td>\n                        <td id=\"T_e1db04a8_d0d8_11ea_a89a_3cd92beea2ccrow9_col7\" class=\"data row9 col7\" >20</td>\n                        <td id=\"T_e1db04a8_d0d8_11ea_a89a_3cd92beea2ccrow9_col8\" class=\"data row9 col8\" >3</td>\n                        <td id=\"T_e1db04a8_d0d8_11ea_a89a_3cd92beea2ccrow9_col9\" class=\"data row9 col9\" >12</td>\n                        <td id=\"T_e1db04a8_d0d8_11ea_a89a_3cd92beea2ccrow9_col10\" class=\"data row9 col10\" >21</td>\n                        <td id=\"T_e1db04a8_d0d8_11ea_a89a_3cd92beea2ccrow9_col11\" class=\"data row9 col11\" >4</td>\n                        <td id=\"T_e1db04a8_d0d8_11ea_a89a_3cd92beea2ccrow9_col12\" class=\"data row9 col12\" >13</td>\n                        <td id=\"T_e1db04a8_d0d8_11ea_a89a_3cd92beea2ccrow9_col13\" class=\"data row9 col13\" >22</td>\n                        <td id=\"T_e1db04a8_d0d8_11ea_a89a_3cd92beea2ccrow9_col14\" class=\"data row9 col14\" >5</td>\n                        <td id=\"T_e1db04a8_d0d8_11ea_a89a_3cd92beea2ccrow9_col15\" class=\"data row9 col15\" >14</td>\n                        <td id=\"T_e1db04a8_d0d8_11ea_a89a_3cd92beea2ccrow9_col16\" class=\"data row9 col16\" >23</td>\n                        <td id=\"T_e1db04a8_d0d8_11ea_a89a_3cd92beea2ccrow9_col17\" class=\"data row9 col17\" >6</td>\n                        <td id=\"T_e1db04a8_d0d8_11ea_a89a_3cd92beea2ccrow9_col18\" class=\"data row9 col18\" >15</td>\n                        <td id=\"T_e1db04a8_d0d8_11ea_a89a_3cd92beea2ccrow9_col19\" class=\"data row9 col19\" >24</td>\n                        <td id=\"T_e1db04a8_d0d8_11ea_a89a_3cd92beea2ccrow9_col20\" class=\"data row9 col20\" >7</td>\n                        <td id=\"T_e1db04a8_d0d8_11ea_a89a_3cd92beea2ccrow9_col21\" class=\"data row9 col21\" >16</td>\n                        <td id=\"T_e1db04a8_d0d8_11ea_a89a_3cd92beea2ccrow9_col22\" class=\"data row9 col22\" >25</td>\n                        <td id=\"T_e1db04a8_d0d8_11ea_a89a_3cd92beea2ccrow9_col23\" class=\"data row9 col23\" >8</td>\n                        <td id=\"T_e1db04a8_d0d8_11ea_a89a_3cd92beea2ccrow9_col24\" class=\"data row9 col24\" >17</td>\n                        <td id=\"T_e1db04a8_d0d8_11ea_a89a_3cd92beea2ccrow9_col25\" class=\"data row9 col25\" >26</td>\n            </tr>\n            <tr>\n                        <th id=\"T_e1db04a8_d0d8_11ea_a89a_3cd92beea2cclevel0_row10\" class=\"row_heading level0 row10\" >11</th>\n                        <td id=\"T_e1db04a8_d0d8_11ea_a89a_3cd92beea2ccrow10_col0\" class=\"data row10 col0\" >11</td>\n                        <td id=\"T_e1db04a8_d0d8_11ea_a89a_3cd92beea2ccrow10_col1\" class=\"data row10 col1\" >22</td>\n                        <td id=\"T_e1db04a8_d0d8_11ea_a89a_3cd92beea2ccrow10_col2\" class=\"data row10 col2\" >7</td>\n                        <td id=\"T_e1db04a8_d0d8_11ea_a89a_3cd92beea2ccrow10_col3\" class=\"data row10 col3\" >18</td>\n                        <td id=\"T_e1db04a8_d0d8_11ea_a89a_3cd92beea2ccrow10_col4\" class=\"data row10 col4\" >3</td>\n                        <td id=\"T_e1db04a8_d0d8_11ea_a89a_3cd92beea2ccrow10_col5\" class=\"data row10 col5\" >14</td>\n                        <td id=\"T_e1db04a8_d0d8_11ea_a89a_3cd92beea2ccrow10_col6\" class=\"data row10 col6\" >25</td>\n                        <td id=\"T_e1db04a8_d0d8_11ea_a89a_3cd92beea2ccrow10_col7\" class=\"data row10 col7\" >10</td>\n                        <td id=\"T_e1db04a8_d0d8_11ea_a89a_3cd92beea2ccrow10_col8\" class=\"data row10 col8\" >21</td>\n                        <td id=\"T_e1db04a8_d0d8_11ea_a89a_3cd92beea2ccrow10_col9\" class=\"data row10 col9\" >6</td>\n                        <td id=\"T_e1db04a8_d0d8_11ea_a89a_3cd92beea2ccrow10_col10\" class=\"data row10 col10\" >17</td>\n                        <td id=\"T_e1db04a8_d0d8_11ea_a89a_3cd92beea2ccrow10_col11\" class=\"data row10 col11\" >2</td>\n                        <td id=\"T_e1db04a8_d0d8_11ea_a89a_3cd92beea2ccrow10_col12\" class=\"data row10 col12\" >13</td>\n                        <td id=\"T_e1db04a8_d0d8_11ea_a89a_3cd92beea2ccrow10_col13\" class=\"data row10 col13\" >24</td>\n                        <td id=\"T_e1db04a8_d0d8_11ea_a89a_3cd92beea2ccrow10_col14\" class=\"data row10 col14\" >9</td>\n                        <td id=\"T_e1db04a8_d0d8_11ea_a89a_3cd92beea2ccrow10_col15\" class=\"data row10 col15\" >20</td>\n                        <td id=\"T_e1db04a8_d0d8_11ea_a89a_3cd92beea2ccrow10_col16\" class=\"data row10 col16\" >5</td>\n                        <td id=\"T_e1db04a8_d0d8_11ea_a89a_3cd92beea2ccrow10_col17\" class=\"data row10 col17\" >16</td>\n                        <td id=\"T_e1db04a8_d0d8_11ea_a89a_3cd92beea2ccrow10_col18\" class=\"data row10 col18\" >1</td>\n                        <td id=\"T_e1db04a8_d0d8_11ea_a89a_3cd92beea2ccrow10_col19\" class=\"data row10 col19\" >12</td>\n                        <td id=\"T_e1db04a8_d0d8_11ea_a89a_3cd92beea2ccrow10_col20\" class=\"data row10 col20\" >23</td>\n                        <td id=\"T_e1db04a8_d0d8_11ea_a89a_3cd92beea2ccrow10_col21\" class=\"data row10 col21\" >8</td>\n                        <td id=\"T_e1db04a8_d0d8_11ea_a89a_3cd92beea2ccrow10_col22\" class=\"data row10 col22\" >19</td>\n                        <td id=\"T_e1db04a8_d0d8_11ea_a89a_3cd92beea2ccrow10_col23\" class=\"data row10 col23\" >4</td>\n                        <td id=\"T_e1db04a8_d0d8_11ea_a89a_3cd92beea2ccrow10_col24\" class=\"data row10 col24\" >15</td>\n                        <td id=\"T_e1db04a8_d0d8_11ea_a89a_3cd92beea2ccrow10_col25\" class=\"data row10 col25\" >26</td>\n            </tr>\n            <tr>\n                        <th id=\"T_e1db04a8_d0d8_11ea_a89a_3cd92beea2cclevel0_row11\" class=\"row_heading level0 row11\" >12</th>\n                        <td id=\"T_e1db04a8_d0d8_11ea_a89a_3cd92beea2ccrow11_col0\" class=\"data row11 col0\" >15</td>\n                        <td id=\"T_e1db04a8_d0d8_11ea_a89a_3cd92beea2ccrow11_col1\" class=\"data row11 col1\" >4</td>\n                        <td id=\"T_e1db04a8_d0d8_11ea_a89a_3cd92beea2ccrow11_col2\" class=\"data row11 col2\" >19</td>\n                        <td id=\"T_e1db04a8_d0d8_11ea_a89a_3cd92beea2ccrow11_col3\" class=\"data row11 col3\" >8</td>\n                        <td id=\"T_e1db04a8_d0d8_11ea_a89a_3cd92beea2ccrow11_col4\" class=\"data row11 col4\" >23</td>\n                        <td id=\"T_e1db04a8_d0d8_11ea_a89a_3cd92beea2ccrow11_col5\" class=\"data row11 col5\" >12</td>\n                        <td id=\"T_e1db04a8_d0d8_11ea_a89a_3cd92beea2ccrow11_col6\" class=\"data row11 col6\" >1</td>\n                        <td id=\"T_e1db04a8_d0d8_11ea_a89a_3cd92beea2ccrow11_col7\" class=\"data row11 col7\" >16</td>\n                        <td id=\"T_e1db04a8_d0d8_11ea_a89a_3cd92beea2ccrow11_col8\" class=\"data row11 col8\" >5</td>\n                        <td id=\"T_e1db04a8_d0d8_11ea_a89a_3cd92beea2ccrow11_col9\" class=\"data row11 col9\" >20</td>\n                        <td id=\"T_e1db04a8_d0d8_11ea_a89a_3cd92beea2ccrow11_col10\" class=\"data row11 col10\" >9</td>\n                        <td id=\"T_e1db04a8_d0d8_11ea_a89a_3cd92beea2ccrow11_col11\" class=\"data row11 col11\" >24</td>\n                        <td id=\"T_e1db04a8_d0d8_11ea_a89a_3cd92beea2ccrow11_col12\" class=\"data row11 col12\" >13</td>\n                        <td id=\"T_e1db04a8_d0d8_11ea_a89a_3cd92beea2ccrow11_col13\" class=\"data row11 col13\" >2</td>\n                        <td id=\"T_e1db04a8_d0d8_11ea_a89a_3cd92beea2ccrow11_col14\" class=\"data row11 col14\" >17</td>\n                        <td id=\"T_e1db04a8_d0d8_11ea_a89a_3cd92beea2ccrow11_col15\" class=\"data row11 col15\" >6</td>\n                        <td id=\"T_e1db04a8_d0d8_11ea_a89a_3cd92beea2ccrow11_col16\" class=\"data row11 col16\" >21</td>\n                        <td id=\"T_e1db04a8_d0d8_11ea_a89a_3cd92beea2ccrow11_col17\" class=\"data row11 col17\" >10</td>\n                        <td id=\"T_e1db04a8_d0d8_11ea_a89a_3cd92beea2ccrow11_col18\" class=\"data row11 col18\" >25</td>\n                        <td id=\"T_e1db04a8_d0d8_11ea_a89a_3cd92beea2ccrow11_col19\" class=\"data row11 col19\" >14</td>\n                        <td id=\"T_e1db04a8_d0d8_11ea_a89a_3cd92beea2ccrow11_col20\" class=\"data row11 col20\" >3</td>\n                        <td id=\"T_e1db04a8_d0d8_11ea_a89a_3cd92beea2ccrow11_col21\" class=\"data row11 col21\" >18</td>\n                        <td id=\"T_e1db04a8_d0d8_11ea_a89a_3cd92beea2ccrow11_col22\" class=\"data row11 col22\" >7</td>\n                        <td id=\"T_e1db04a8_d0d8_11ea_a89a_3cd92beea2ccrow11_col23\" class=\"data row11 col23\" >22</td>\n                        <td id=\"T_e1db04a8_d0d8_11ea_a89a_3cd92beea2ccrow11_col24\" class=\"data row11 col24\" >11</td>\n                        <td id=\"T_e1db04a8_d0d8_11ea_a89a_3cd92beea2ccrow11_col25\" class=\"data row11 col25\" >26</td>\n            </tr>\n            <tr>\n                        <th id=\"T_e1db04a8_d0d8_11ea_a89a_3cd92beea2cclevel0_row12\" class=\"row_heading level0 row12\" >13</th>\n                        <td id=\"T_e1db04a8_d0d8_11ea_a89a_3cd92beea2ccrow12_col0\" class=\"data row12 col0\" >13</td>\n                        <td id=\"T_e1db04a8_d0d8_11ea_a89a_3cd92beea2ccrow12_col1\" class=\"data row12 col1\" >26</td>\n                        <td id=\"T_e1db04a8_d0d8_11ea_a89a_3cd92beea2ccrow12_col2\" class=\"data row12 col2\" >13</td>\n                        <td id=\"T_e1db04a8_d0d8_11ea_a89a_3cd92beea2ccrow12_col3\" class=\"data row12 col3\" >26</td>\n                        <td id=\"T_e1db04a8_d0d8_11ea_a89a_3cd92beea2ccrow12_col4\" class=\"data row12 col4\" >13</td>\n                        <td id=\"T_e1db04a8_d0d8_11ea_a89a_3cd92beea2ccrow12_col5\" class=\"data row12 col5\" >26</td>\n                        <td id=\"T_e1db04a8_d0d8_11ea_a89a_3cd92beea2ccrow12_col6\" class=\"data row12 col6\" >13</td>\n                        <td id=\"T_e1db04a8_d0d8_11ea_a89a_3cd92beea2ccrow12_col7\" class=\"data row12 col7\" >26</td>\n                        <td id=\"T_e1db04a8_d0d8_11ea_a89a_3cd92beea2ccrow12_col8\" class=\"data row12 col8\" >13</td>\n                        <td id=\"T_e1db04a8_d0d8_11ea_a89a_3cd92beea2ccrow12_col9\" class=\"data row12 col9\" >26</td>\n                        <td id=\"T_e1db04a8_d0d8_11ea_a89a_3cd92beea2ccrow12_col10\" class=\"data row12 col10\" >13</td>\n                        <td id=\"T_e1db04a8_d0d8_11ea_a89a_3cd92beea2ccrow12_col11\" class=\"data row12 col11\" >26</td>\n                        <td id=\"T_e1db04a8_d0d8_11ea_a89a_3cd92beea2ccrow12_col12\" class=\"data row12 col12\" >13</td>\n                        <td id=\"T_e1db04a8_d0d8_11ea_a89a_3cd92beea2ccrow12_col13\" class=\"data row12 col13\" >26</td>\n                        <td id=\"T_e1db04a8_d0d8_11ea_a89a_3cd92beea2ccrow12_col14\" class=\"data row12 col14\" >13</td>\n                        <td id=\"T_e1db04a8_d0d8_11ea_a89a_3cd92beea2ccrow12_col15\" class=\"data row12 col15\" >26</td>\n                        <td id=\"T_e1db04a8_d0d8_11ea_a89a_3cd92beea2ccrow12_col16\" class=\"data row12 col16\" >13</td>\n                        <td id=\"T_e1db04a8_d0d8_11ea_a89a_3cd92beea2ccrow12_col17\" class=\"data row12 col17\" >26</td>\n                        <td id=\"T_e1db04a8_d0d8_11ea_a89a_3cd92beea2ccrow12_col18\" class=\"data row12 col18\" >13</td>\n                        <td id=\"T_e1db04a8_d0d8_11ea_a89a_3cd92beea2ccrow12_col19\" class=\"data row12 col19\" >26</td>\n                        <td id=\"T_e1db04a8_d0d8_11ea_a89a_3cd92beea2ccrow12_col20\" class=\"data row12 col20\" >13</td>\n                        <td id=\"T_e1db04a8_d0d8_11ea_a89a_3cd92beea2ccrow12_col21\" class=\"data row12 col21\" >26</td>\n                        <td id=\"T_e1db04a8_d0d8_11ea_a89a_3cd92beea2ccrow12_col22\" class=\"data row12 col22\" >13</td>\n                        <td id=\"T_e1db04a8_d0d8_11ea_a89a_3cd92beea2ccrow12_col23\" class=\"data row12 col23\" >26</td>\n                        <td id=\"T_e1db04a8_d0d8_11ea_a89a_3cd92beea2ccrow12_col24\" class=\"data row12 col24\" >13</td>\n                        <td id=\"T_e1db04a8_d0d8_11ea_a89a_3cd92beea2ccrow12_col25\" class=\"data row12 col25\" >26</td>\n            </tr>\n    </tbody></table>",
          "text/plain": "<pandas.io.formats.style.Styler at 0x7fdf6db973c8>"
         },
         "metadata": {},
         "output_type": "display_data"
        }
       ]
      }
     },
     "f032a39d1ba34d0b8431bc4ed5a853ab": {
      "model_module": "@jupyter-widgets/controls",
      "model_module_version": "1.5.0",
      "model_name": "DescriptionStyleModel",
      "state": {
       "description_width": ""
      }
     },
     "f5163b7145b54a11849ae1554e62ca22": {
      "model_module": "@jupyter-widgets/base",
      "model_module_version": "1.2.0",
      "model_name": "LayoutModel",
      "state": {}
     },
     "f65e01aab3264354b5489b05fba71047": {
      "model_module": "@jupyter-widgets/base",
      "model_module_version": "1.2.0",
      "model_name": "LayoutModel",
      "state": {}
     }
    },
    "version_major": 2,
    "version_minor": 0
   }
  }
 },
 "nbformat": 4,
 "nbformat_minor": 4
}
